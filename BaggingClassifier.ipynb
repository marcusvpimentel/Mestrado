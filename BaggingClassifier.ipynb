{
  "nbformat": 4,
  "nbformat_minor": 0,
  "metadata": {
    "colab": {
      "provenance": [],
      "authorship_tag": "ABX9TyMg0vd4Mqg6i1+YbuGkf+Te",
      "include_colab_link": true
    },
    "kernelspec": {
      "name": "python3",
      "display_name": "Python 3"
    },
    "language_info": {
      "name": "python"
    }
  },
  "cells": [
    {
      "cell_type": "markdown",
      "metadata": {
        "id": "view-in-github",
        "colab_type": "text"
      },
      "source": [
        "<a href=\"https://colab.research.google.com/github/marcusvpimentel/Mestrado/blob/main/BaggingClassifier.ipynb\" target=\"_parent\"><img src=\"https://colab.research.google.com/assets/colab-badge.svg\" alt=\"Open In Colab\"/></a>"
      ]
    },
    {
      "cell_type": "code",
      "source": [
        "from sklearn.datasets import load_iris\n",
        "dataset = load_iris()\n",
        "X, y = dataset.data, dataset.target"
      ],
      "metadata": {
        "id": "H2Qd3Ey3eGoB"
      },
      "execution_count": 1,
      "outputs": []
    },
    {
      "cell_type": "code",
      "source": [
        "import random\n",
        "import numpy as np\n",
        "def sorteiaCaracteristica(X, y):\n",
        "  caracteristica = random.randint(a=0, b=X.shape[1]-1)\n",
        "  valor = random.uniform(a=np.min(X[:,caracteristica]), b=np.max(X[:,caracteristica]))\n",
        "  return caracteristica, valor\n",
        "sorteiaCaracteristica(X, y)"
      ],
      "metadata": {
        "colab": {
          "base_uri": "https://localhost:8080/"
        },
        "id": "Xu7t1VDErYoM",
        "outputId": "d348d1da-7043-4b1d-d876-a284214c7414"
      },
      "execution_count": 4,
      "outputs": [
        {
          "output_type": "execute_result",
          "data": {
            "text/plain": [
              "(1, 3.32726948959164)"
            ]
          },
          "metadata": {},
          "execution_count": 4
        }
      ]
    },
    {
      "cell_type": "code",
      "execution_count": 5,
      "metadata": {
        "id": "TtY-uPAPc4HR"
      },
      "outputs": [],
      "source": [
        "from sklearn.base import BaseEstimator, ClassifierMixin\n",
        "from collections import Counter\n",
        "from sklearn.model_selection import cross_validate\n",
        "from sklearn.ensemble import BaggingClassifier\n",
        "\n",
        "def maisFrequente(y):\n",
        "  return Counter(y.flat).most_common(1)[0][0]\n",
        "\n",
        "class Arvore(BaseEstimator, ClassifierMixin):\n",
        "  def fit(self, X, y):\n",
        "    self.caracteristica, self.valor = sorteiaCaracteristica(X, y)\n",
        "    maiores = X[:,self.caracteristica] > self.valor\n",
        "    if sum(maiores)>0 and sum(~maiores)>0:\n",
        "      self.maiores = Arvore()\n",
        "      self.maiores.fit(X[maiores,:], y[maiores])\n",
        "      self.menores = Arvore()\n",
        "      self.menores.fit(X[~maiores,:], y[~maiores])\n",
        "    else:\n",
        "      self.resposta = maisFrequente( y )\n",
        "    return self\n",
        "  def predict(self, X):\n",
        "    y = np.empty((X.shape[0]))\n",
        "    if hasattr(self, 'resposta'):\n",
        "      y[:] = self.resposta\n",
        "    else:\n",
        "      maiores = X[:, self.caracteristica] > self.valor\n",
        "      y[maiores] = self.maiores.predict(X[maiores,:])\n",
        "      y[~maiores] = self.menores.predict(X[~maiores,:])\n",
        "    return y\n",
        "\n",
        "    def fit(self, X, y):\n",
        "        self.caracteristica, self.valor = self.sorteiaCaracteristica(X, y)\n",
        "        maiores = X[:,self.caracteristica] > self.valor\n",
        "        if np.sum(maiores) > 0 and np.sum(~maiores) > 0:\n",
        "            self.maiores = Arvore()\n",
        "            self.maiores.fit(X[maiores,:], y[maiores])\n",
        "            self.menores = Arvore()\n",
        "            self.menores.fit(X[~maiores,:], y[~maiores])\n",
        "        else:\n",
        "            self.resposta = self.maisFrequente(y)\n",
        "        return self\n",
        "\n",
        "    def predict(self, X):\n",
        "        y = np.empty((X.shape[0]))\n",
        "        if self.resposta is not None:\n",
        "            y[:] = self.resposta\n",
        "        else:\n",
        "            maiores = X[:, self.caracteristica] > self.valor\n",
        "            y[maiores] = self.maiores.predict(X[maiores,:])\n",
        "            y[~maiores] = self.menores.predict(X[~maiores,:])\n",
        "        return y\n",
        "\n"
      ]
    },
    {
      "cell_type": "code",
      "source": [
        "results = cross_validate(Arvore(), X, y)\n",
        "results['test_score'], np.mean(results['test_score'])"
      ],
      "metadata": {
        "colab": {
          "base_uri": "https://localhost:8080/"
        },
        "id": "NdSRKKvQrQ_3",
        "outputId": "24b1f07c-36e7-4f3e-bba4-98538b5b0e3a"
      },
      "execution_count": 6,
      "outputs": [
        {
          "output_type": "execute_result",
          "data": {
            "text/plain": [
              "(array([0.93333333, 0.9       , 0.9       , 0.93333333, 0.96666667]),\n",
              " 0.9266666666666667)"
            ]
          },
          "metadata": {},
          "execution_count": 6
        }
      ]
    },
    {
      "cell_type": "code",
      "source": [
        "from sklearn.ensemble import BaggingClassifier\n",
        "from sklearn.tree import DecisionTreeClassifier\n",
        "\n",
        "modelo = BaggingClassifier(DecisionTreeClassifier(splitter='random'),\n",
        "                           n_estimators=100)\n",
        "results = cross_validate(modelo, X, y)\n",
        "results['test_score'], np.mean(results['test_score'])"
      ],
      "metadata": {
        "colab": {
          "base_uri": "https://localhost:8080/"
        },
        "id": "9H372J4qrfo1",
        "outputId": "96757a94-032d-4332-807e-477cc46ea6b5"
      },
      "execution_count": 7,
      "outputs": [
        {
          "output_type": "execute_result",
          "data": {
            "text/plain": [
              "(array([0.96666667, 0.96666667, 0.93333333, 0.9       , 1.        ]),\n",
              " 0.9533333333333334)"
            ]
          },
          "metadata": {},
          "execution_count": 7
        }
      ]
    }
  ]
}