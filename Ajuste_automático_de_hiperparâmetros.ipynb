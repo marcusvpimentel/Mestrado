{
  "nbformat": 4,
  "nbformat_minor": 0,
  "metadata": {
    "colab": {
      "provenance": [],
      "mount_file_id": "1x_YzyMD7u1ze5WkH-UkKY3YBg9I1vA8C",
      "authorship_tag": "ABX9TyO/Mb+KwwiXC2P7Rqq5Ai90",
      "include_colab_link": true
    },
    "kernelspec": {
      "name": "python3",
      "display_name": "Python 3"
    },
    "language_info": {
      "name": "python"
    }
  },
  "cells": [
    {
      "cell_type": "markdown",
      "metadata": {
        "id": "view-in-github",
        "colab_type": "text"
      },
      "source": [
        "<a href=\"https://colab.research.google.com/github/marcusvpimentel/Mestrado/blob/main/Ajuste_autom%C3%A1tico_de_hiperpar%C3%A2metros.ipynb\" target=\"_parent\"><img src=\"https://colab.research.google.com/assets/colab-badge.svg\" alt=\"Open In Colab\"/></a>"
      ]
    },
    {
      "cell_type": "code",
      "source": [
        "from sklearn.datasets import load_diabetes\n",
        "X, y = load_diabetes(return_X_y=True)\n",
        "X.shape, y.shape"
      ],
      "metadata": {
        "colab": {
          "base_uri": "https://localhost:8080/"
        },
        "id": "T3v5U6j69Jq0",
        "outputId": "bf8c854f-89b8-4323-c1e1-08c7d320ce7f"
      },
      "execution_count": 1,
      "outputs": [
        {
          "output_type": "execute_result",
          "data": {
            "text/plain": [
              "((442, 10), (442,))"
            ]
          },
          "metadata": {},
          "execution_count": 1
        }
      ]
    },
    {
      "cell_type": "code",
      "source": [
        "from sklearn.model_selection import train_test_split\n",
        "\n",
        "Xtr, Xte, ytr, yte = train_test_split(X, y)\n",
        "Xtr.shape, ytr.shape, Xte.shape, yte.shape"
      ],
      "metadata": {
        "colab": {
          "base_uri": "https://localhost:8080/"
        },
        "id": "ggD4m7NM9lVn",
        "outputId": "238852be-568b-4fd5-c90e-6d40c18f651d"
      },
      "execution_count": 2,
      "outputs": [
        {
          "output_type": "execute_result",
          "data": {
            "text/plain": [
              "((331, 10), (331,), (111, 10), (111,))"
            ]
          },
          "metadata": {},
          "execution_count": 2
        }
      ]
    },
    {
      "cell_type": "code",
      "source": [
        "from sklearn.metrics import mean_squared_error, make_scorer\n",
        "from sklearn.model_selection import cross_validate, RepeatedKFold\n",
        "from sklearn.neighbors import KNeighborsRegressor\n",
        "import numpy as np\n",
        "\n",
        "modeloKnn = KNeighborsRegressor()\n",
        "scores = cross_validate(modeloKnn, Xtr, ytr, cv=RepeatedKFold(random_state=42),\n",
        "                        scoring=make_scorer(mean_squared_error, squared=False))\n",
        "np.mean(scores['test_score'])"
      ],
      "metadata": {
        "colab": {
          "base_uri": "https://localhost:8080/"
        },
        "id": "hQX48y3j9oSu",
        "outputId": "2427a538-3672-431a-837b-cbeb141ab831"
      },
      "execution_count": 5,
      "outputs": [
        {
          "output_type": "execute_result",
          "data": {
            "text/plain": [
              "58.63710080535559"
            ]
          },
          "metadata": {},
          "execution_count": 5
        }
      ]
    },
    {
      "cell_type": "code",
      "source": [
        "from sklearn.model_selection import GridSearchCV\n",
        "\n",
        "param = {'n_neighbors': [3, 5, 7]}\n",
        "\n",
        "modeloGSCV = GridSearchCV(KNeighborsRegressor(), param, verbose=3,\n",
        "                      scoring=make_scorer(mean_squared_error,\n",
        "                                          greater_is_better=False,\n",
        "                                          squared=False))\n",
        "modeloGSCV.fit(X, y)"
      ],
      "metadata": {
        "colab": {
          "base_uri": "https://localhost:8080/",
          "height": 395
        },
        "id": "X5Qux5ua9_68",
        "outputId": "a19edc84-ed73-447c-b2c1-bce35fb772ea"
      },
      "execution_count": 7,
      "outputs": [
        {
          "output_type": "stream",
          "name": "stdout",
          "text": [
            "Fitting 5 folds for each of 3 candidates, totalling 15 fits\n",
            "[CV 1/5] END ...................n_neighbors=3;, score=-58.073 total time=   0.0s\n",
            "[CV 2/5] END ...................n_neighbors=3;, score=-67.430 total time=   0.0s\n",
            "[CV 3/5] END ...................n_neighbors=3;, score=-62.289 total time=   0.0s\n",
            "[CV 4/5] END ...................n_neighbors=3;, score=-62.023 total time=   0.0s\n",
            "[CV 5/5] END ...................n_neighbors=3;, score=-67.250 total time=   0.0s\n",
            "[CV 1/5] END ...................n_neighbors=5;, score=-56.278 total time=   0.0s\n",
            "[CV 2/5] END ...................n_neighbors=5;, score=-63.421 total time=   0.0s\n",
            "[CV 3/5] END ...................n_neighbors=5;, score=-59.637 total time=   0.0s\n",
            "[CV 4/5] END ...................n_neighbors=5;, score=-59.591 total time=   0.0s\n",
            "[CV 5/5] END ...................n_neighbors=5;, score=-61.706 total time=   0.0s\n",
            "[CV 1/5] END ...................n_neighbors=7;, score=-56.992 total time=   0.0s\n",
            "[CV 2/5] END ...................n_neighbors=7;, score=-62.935 total time=   0.0s\n",
            "[CV 3/5] END ...................n_neighbors=7;, score=-59.575 total time=   0.0s\n",
            "[CV 4/5] END ...................n_neighbors=7;, score=-55.661 total time=   0.0s\n",
            "[CV 5/5] END ...................n_neighbors=7;, score=-60.431 total time=   0.0s\n"
          ]
        },
        {
          "output_type": "execute_result",
          "data": {
            "text/plain": [
              "GridSearchCV(estimator=KNeighborsRegressor(),\n",
              "             param_grid={'n_neighbors': [3, 5, 7]},\n",
              "             scoring=make_scorer(mean_squared_error, greater_is_better=False, squared=False),\n",
              "             verbose=3)"
            ],
            "text/html": [
              "<style>#sk-container-id-3 {color: black;background-color: white;}#sk-container-id-3 pre{padding: 0;}#sk-container-id-3 div.sk-toggleable {background-color: white;}#sk-container-id-3 label.sk-toggleable__label {cursor: pointer;display: block;width: 100%;margin-bottom: 0;padding: 0.3em;box-sizing: border-box;text-align: center;}#sk-container-id-3 label.sk-toggleable__label-arrow:before {content: \"▸\";float: left;margin-right: 0.25em;color: #696969;}#sk-container-id-3 label.sk-toggleable__label-arrow:hover:before {color: black;}#sk-container-id-3 div.sk-estimator:hover label.sk-toggleable__label-arrow:before {color: black;}#sk-container-id-3 div.sk-toggleable__content {max-height: 0;max-width: 0;overflow: hidden;text-align: left;background-color: #f0f8ff;}#sk-container-id-3 div.sk-toggleable__content pre {margin: 0.2em;color: black;border-radius: 0.25em;background-color: #f0f8ff;}#sk-container-id-3 input.sk-toggleable__control:checked~div.sk-toggleable__content {max-height: 200px;max-width: 100%;overflow: auto;}#sk-container-id-3 input.sk-toggleable__control:checked~label.sk-toggleable__label-arrow:before {content: \"▾\";}#sk-container-id-3 div.sk-estimator input.sk-toggleable__control:checked~label.sk-toggleable__label {background-color: #d4ebff;}#sk-container-id-3 div.sk-label input.sk-toggleable__control:checked~label.sk-toggleable__label {background-color: #d4ebff;}#sk-container-id-3 input.sk-hidden--visually {border: 0;clip: rect(1px 1px 1px 1px);clip: rect(1px, 1px, 1px, 1px);height: 1px;margin: -1px;overflow: hidden;padding: 0;position: absolute;width: 1px;}#sk-container-id-3 div.sk-estimator {font-family: monospace;background-color: #f0f8ff;border: 1px dotted black;border-radius: 0.25em;box-sizing: border-box;margin-bottom: 0.5em;}#sk-container-id-3 div.sk-estimator:hover {background-color: #d4ebff;}#sk-container-id-3 div.sk-parallel-item::after {content: \"\";width: 100%;border-bottom: 1px solid gray;flex-grow: 1;}#sk-container-id-3 div.sk-label:hover label.sk-toggleable__label {background-color: #d4ebff;}#sk-container-id-3 div.sk-serial::before {content: \"\";position: absolute;border-left: 1px solid gray;box-sizing: border-box;top: 0;bottom: 0;left: 50%;z-index: 0;}#sk-container-id-3 div.sk-serial {display: flex;flex-direction: column;align-items: center;background-color: white;padding-right: 0.2em;padding-left: 0.2em;position: relative;}#sk-container-id-3 div.sk-item {position: relative;z-index: 1;}#sk-container-id-3 div.sk-parallel {display: flex;align-items: stretch;justify-content: center;background-color: white;position: relative;}#sk-container-id-3 div.sk-item::before, #sk-container-id-3 div.sk-parallel-item::before {content: \"\";position: absolute;border-left: 1px solid gray;box-sizing: border-box;top: 0;bottom: 0;left: 50%;z-index: -1;}#sk-container-id-3 div.sk-parallel-item {display: flex;flex-direction: column;z-index: 1;position: relative;background-color: white;}#sk-container-id-3 div.sk-parallel-item:first-child::after {align-self: flex-end;width: 50%;}#sk-container-id-3 div.sk-parallel-item:last-child::after {align-self: flex-start;width: 50%;}#sk-container-id-3 div.sk-parallel-item:only-child::after {width: 0;}#sk-container-id-3 div.sk-dashed-wrapped {border: 1px dashed gray;margin: 0 0.4em 0.5em 0.4em;box-sizing: border-box;padding-bottom: 0.4em;background-color: white;}#sk-container-id-3 div.sk-label label {font-family: monospace;font-weight: bold;display: inline-block;line-height: 1.2em;}#sk-container-id-3 div.sk-label-container {text-align: center;}#sk-container-id-3 div.sk-container {/* jupyter's `normalize.less` sets `[hidden] { display: none; }` but bootstrap.min.css set `[hidden] { display: none !important; }` so we also need the `!important` here to be able to override the default hidden behavior on the sphinx rendered scikit-learn.org. See: https://github.com/scikit-learn/scikit-learn/issues/21755 */display: inline-block !important;position: relative;}#sk-container-id-3 div.sk-text-repr-fallback {display: none;}</style><div id=\"sk-container-id-3\" class=\"sk-top-container\"><div class=\"sk-text-repr-fallback\"><pre>GridSearchCV(estimator=KNeighborsRegressor(),\n",
              "             param_grid={&#x27;n_neighbors&#x27;: [3, 5, 7]},\n",
              "             scoring=make_scorer(mean_squared_error, greater_is_better=False, squared=False),\n",
              "             verbose=3)</pre><b>In a Jupyter environment, please rerun this cell to show the HTML representation or trust the notebook. <br />On GitHub, the HTML representation is unable to render, please try loading this page with nbviewer.org.</b></div><div class=\"sk-container\" hidden><div class=\"sk-item sk-dashed-wrapped\"><div class=\"sk-label-container\"><div class=\"sk-label sk-toggleable\"><input class=\"sk-toggleable__control sk-hidden--visually\" id=\"sk-estimator-id-7\" type=\"checkbox\" ><label for=\"sk-estimator-id-7\" class=\"sk-toggleable__label sk-toggleable__label-arrow\">GridSearchCV</label><div class=\"sk-toggleable__content\"><pre>GridSearchCV(estimator=KNeighborsRegressor(),\n",
              "             param_grid={&#x27;n_neighbors&#x27;: [3, 5, 7]},\n",
              "             scoring=make_scorer(mean_squared_error, greater_is_better=False, squared=False),\n",
              "             verbose=3)</pre></div></div></div><div class=\"sk-parallel\"><div class=\"sk-parallel-item\"><div class=\"sk-item\"><div class=\"sk-label-container\"><div class=\"sk-label sk-toggleable\"><input class=\"sk-toggleable__control sk-hidden--visually\" id=\"sk-estimator-id-8\" type=\"checkbox\" ><label for=\"sk-estimator-id-8\" class=\"sk-toggleable__label sk-toggleable__label-arrow\">estimator: KNeighborsRegressor</label><div class=\"sk-toggleable__content\"><pre>KNeighborsRegressor()</pre></div></div></div><div class=\"sk-serial\"><div class=\"sk-item\"><div class=\"sk-estimator sk-toggleable\"><input class=\"sk-toggleable__control sk-hidden--visually\" id=\"sk-estimator-id-9\" type=\"checkbox\" ><label for=\"sk-estimator-id-9\" class=\"sk-toggleable__label sk-toggleable__label-arrow\">KNeighborsRegressor</label><div class=\"sk-toggleable__content\"><pre>KNeighborsRegressor()</pre></div></div></div></div></div></div></div></div></div></div>"
            ]
          },
          "metadata": {},
          "execution_count": 7
        }
      ]
    },
    {
      "cell_type": "code",
      "source": [
        "modeloGSCV.cv_results_"
      ],
      "metadata": {
        "colab": {
          "base_uri": "https://localhost:8080/"
        },
        "id": "G6ZsBF-L_j0b",
        "outputId": "27c1d24f-3a27-47b5-e0dd-50b8bfb5d353"
      },
      "execution_count": 8,
      "outputs": [
        {
          "output_type": "execute_result",
          "data": {
            "text/plain": [
              "{'mean_fit_time': array([0.00348077, 0.00126233, 0.00110273]),\n",
              " 'std_fit_time': array([0.00282644, 0.00018395, 0.00021232]),\n",
              " 'mean_score_time': array([0.00858164, 0.00213799, 0.00217104]),\n",
              " 'std_score_time': array([0.00647357, 0.00055404, 0.00126993]),\n",
              " 'param_n_neighbors': masked_array(data=[3, 5, 7],\n",
              "              mask=[False, False, False],\n",
              "        fill_value='?',\n",
              "             dtype=object),\n",
              " 'params': [{'n_neighbors': 3}, {'n_neighbors': 5}, {'n_neighbors': 7}],\n",
              " 'split0_test_score': array([-58.07341774, -56.2778101 , -56.99180879]),\n",
              " 'split1_test_score': array([-67.43002106, -63.42066441, -62.93518794]),\n",
              " 'split2_test_score': array([-62.28861222, -59.63695849, -59.57483095]),\n",
              " 'split3_test_score': array([-62.02315061, -59.59086644, -55.66109057]),\n",
              " 'split4_test_score': array([-67.25015489, -61.70551029, -60.43146504]),\n",
              " 'mean_test_score': array([-63.41307131, -60.12636195, -59.11887666]),\n",
              " 'std_test_score': array([3.53743647, 2.3951518 , 2.56810112]),\n",
              " 'rank_test_score': array([3, 2, 1], dtype=int32)}"
            ]
          },
          "metadata": {},
          "execution_count": 8
        }
      ]
    },
    {
      "cell_type": "code",
      "source": [
        "modeloGSCV.best_estimator_"
      ],
      "metadata": {
        "colab": {
          "base_uri": "https://localhost:8080/",
          "height": 75
        },
        "id": "wu8Kb1mp_yGC",
        "outputId": "af474e57-e33a-42c7-f6b7-83b87db5e4d1"
      },
      "execution_count": 9,
      "outputs": [
        {
          "output_type": "execute_result",
          "data": {
            "text/plain": [
              "KNeighborsRegressor(n_neighbors=7)"
            ],
            "text/html": [
              "<style>#sk-container-id-4 {color: black;background-color: white;}#sk-container-id-4 pre{padding: 0;}#sk-container-id-4 div.sk-toggleable {background-color: white;}#sk-container-id-4 label.sk-toggleable__label {cursor: pointer;display: block;width: 100%;margin-bottom: 0;padding: 0.3em;box-sizing: border-box;text-align: center;}#sk-container-id-4 label.sk-toggleable__label-arrow:before {content: \"▸\";float: left;margin-right: 0.25em;color: #696969;}#sk-container-id-4 label.sk-toggleable__label-arrow:hover:before {color: black;}#sk-container-id-4 div.sk-estimator:hover label.sk-toggleable__label-arrow:before {color: black;}#sk-container-id-4 div.sk-toggleable__content {max-height: 0;max-width: 0;overflow: hidden;text-align: left;background-color: #f0f8ff;}#sk-container-id-4 div.sk-toggleable__content pre {margin: 0.2em;color: black;border-radius: 0.25em;background-color: #f0f8ff;}#sk-container-id-4 input.sk-toggleable__control:checked~div.sk-toggleable__content {max-height: 200px;max-width: 100%;overflow: auto;}#sk-container-id-4 input.sk-toggleable__control:checked~label.sk-toggleable__label-arrow:before {content: \"▾\";}#sk-container-id-4 div.sk-estimator input.sk-toggleable__control:checked~label.sk-toggleable__label {background-color: #d4ebff;}#sk-container-id-4 div.sk-label input.sk-toggleable__control:checked~label.sk-toggleable__label {background-color: #d4ebff;}#sk-container-id-4 input.sk-hidden--visually {border: 0;clip: rect(1px 1px 1px 1px);clip: rect(1px, 1px, 1px, 1px);height: 1px;margin: -1px;overflow: hidden;padding: 0;position: absolute;width: 1px;}#sk-container-id-4 div.sk-estimator {font-family: monospace;background-color: #f0f8ff;border: 1px dotted black;border-radius: 0.25em;box-sizing: border-box;margin-bottom: 0.5em;}#sk-container-id-4 div.sk-estimator:hover {background-color: #d4ebff;}#sk-container-id-4 div.sk-parallel-item::after {content: \"\";width: 100%;border-bottom: 1px solid gray;flex-grow: 1;}#sk-container-id-4 div.sk-label:hover label.sk-toggleable__label {background-color: #d4ebff;}#sk-container-id-4 div.sk-serial::before {content: \"\";position: absolute;border-left: 1px solid gray;box-sizing: border-box;top: 0;bottom: 0;left: 50%;z-index: 0;}#sk-container-id-4 div.sk-serial {display: flex;flex-direction: column;align-items: center;background-color: white;padding-right: 0.2em;padding-left: 0.2em;position: relative;}#sk-container-id-4 div.sk-item {position: relative;z-index: 1;}#sk-container-id-4 div.sk-parallel {display: flex;align-items: stretch;justify-content: center;background-color: white;position: relative;}#sk-container-id-4 div.sk-item::before, #sk-container-id-4 div.sk-parallel-item::before {content: \"\";position: absolute;border-left: 1px solid gray;box-sizing: border-box;top: 0;bottom: 0;left: 50%;z-index: -1;}#sk-container-id-4 div.sk-parallel-item {display: flex;flex-direction: column;z-index: 1;position: relative;background-color: white;}#sk-container-id-4 div.sk-parallel-item:first-child::after {align-self: flex-end;width: 50%;}#sk-container-id-4 div.sk-parallel-item:last-child::after {align-self: flex-start;width: 50%;}#sk-container-id-4 div.sk-parallel-item:only-child::after {width: 0;}#sk-container-id-4 div.sk-dashed-wrapped {border: 1px dashed gray;margin: 0 0.4em 0.5em 0.4em;box-sizing: border-box;padding-bottom: 0.4em;background-color: white;}#sk-container-id-4 div.sk-label label {font-family: monospace;font-weight: bold;display: inline-block;line-height: 1.2em;}#sk-container-id-4 div.sk-label-container {text-align: center;}#sk-container-id-4 div.sk-container {/* jupyter's `normalize.less` sets `[hidden] { display: none; }` but bootstrap.min.css set `[hidden] { display: none !important; }` so we also need the `!important` here to be able to override the default hidden behavior on the sphinx rendered scikit-learn.org. See: https://github.com/scikit-learn/scikit-learn/issues/21755 */display: inline-block !important;position: relative;}#sk-container-id-4 div.sk-text-repr-fallback {display: none;}</style><div id=\"sk-container-id-4\" class=\"sk-top-container\"><div class=\"sk-text-repr-fallback\"><pre>KNeighborsRegressor(n_neighbors=7)</pre><b>In a Jupyter environment, please rerun this cell to show the HTML representation or trust the notebook. <br />On GitHub, the HTML representation is unable to render, please try loading this page with nbviewer.org.</b></div><div class=\"sk-container\" hidden><div class=\"sk-item\"><div class=\"sk-estimator sk-toggleable\"><input class=\"sk-toggleable__control sk-hidden--visually\" id=\"sk-estimator-id-10\" type=\"checkbox\" checked><label for=\"sk-estimator-id-10\" class=\"sk-toggleable__label sk-toggleable__label-arrow\">KNeighborsRegressor</label><div class=\"sk-toggleable__content\"><pre>KNeighborsRegressor(n_neighbors=7)</pre></div></div></div></div></div>"
            ]
          },
          "metadata": {},
          "execution_count": 9
        }
      ]
    },
    {
      "cell_type": "code",
      "source": [
        "from math import sqrt\n",
        "rmse = mean_squared_error(yte, modeloGSCV.predict(Xte), squared=False)\n",
        "sqrt(rmse)\n",
        "rmse"
      ],
      "metadata": {
        "colab": {
          "base_uri": "https://localhost:8080/"
        },
        "id": "XvPaRY-9A08f",
        "outputId": "0203e1fc-0946-44ad-c186-bb0713fa229c"
      },
      "execution_count": 17,
      "outputs": [
        {
          "output_type": "execute_result",
          "data": {
            "text/plain": [
              "53.26908591182346"
            ]
          },
          "metadata": {},
          "execution_count": 17
        }
      ]
    },
    {
      "cell_type": "code",
      "source": [
        "scores = cross_validate(modeloGSCV, X, y,\n",
        "                        scoring=make_scorer(mean_squared_error, squared=False))\n",
        "np.mean(scores['test_score'])\n"
      ],
      "metadata": {
        "colab": {
          "base_uri": "https://localhost:8080/"
        },
        "id": "MPO2xD2cB6Mv",
        "outputId": "9bf84b80-18a1-44f2-e192-c8ef670fd75a"
      },
      "execution_count": 20,
      "outputs": [
        {
          "output_type": "stream",
          "name": "stdout",
          "text": [
            "Fitting 5 folds for each of 3 candidates, totalling 15 fits\n",
            "[CV 1/5] END ...................n_neighbors=3;, score=-68.527 total time=   0.0s\n",
            "[CV 2/5] END ...................n_neighbors=3;, score=-58.962 total time=   0.0s\n",
            "[CV 3/5] END ...................n_neighbors=3;, score=-71.709 total time=   0.0s\n",
            "[CV 4/5] END ...................n_neighbors=3;, score=-67.419 total time=   0.0s\n",
            "[CV 5/5] END ...................n_neighbors=3;, score=-59.656 total time=   0.0s\n",
            "[CV 1/5] END ...................n_neighbors=5;, score=-62.284 total time=   0.0s\n",
            "[CV 2/5] END ...................n_neighbors=5;, score=-57.189 total time=   0.0s\n",
            "[CV 3/5] END ...................n_neighbors=5;, score=-64.516 total time=   0.0s\n",
            "[CV 4/5] END ...................n_neighbors=5;, score=-60.322 total time=   0.0s\n",
            "[CV 5/5] END ...................n_neighbors=5;, score=-59.057 total time=   0.0s\n",
            "[CV 1/5] END ...................n_neighbors=7;, score=-61.069 total time=   0.0s\n",
            "[CV 2/5] END ...................n_neighbors=7;, score=-57.178 total time=   0.0s\n",
            "[CV 3/5] END ...................n_neighbors=7;, score=-64.974 total time=   0.0s\n",
            "[CV 4/5] END ...................n_neighbors=7;, score=-54.846 total time=   0.0s\n",
            "[CV 5/5] END ...................n_neighbors=7;, score=-58.511 total time=   0.0s\n",
            "Fitting 5 folds for each of 3 candidates, totalling 15 fits\n",
            "[CV 1/5] END ...................n_neighbors=3;, score=-55.864 total time=   0.0s\n",
            "[CV 2/5] END ...................n_neighbors=3;, score=-57.244 total time=   0.0s\n",
            "[CV 3/5] END ...................n_neighbors=3;, score=-68.694 total time=   0.0s\n",
            "[CV 4/5] END ...................n_neighbors=3;, score=-66.084 total time=   0.0s\n",
            "[CV 5/5] END ...................n_neighbors=3;, score=-60.977 total time=   0.0s\n",
            "[CV 1/5] END ...................n_neighbors=5;, score=-53.789 total time=   0.0s\n",
            "[CV 2/5] END ...................n_neighbors=5;, score=-59.678 total time=   0.0s\n",
            "[CV 3/5] END ...................n_neighbors=5;, score=-67.375 total time=   0.0s\n",
            "[CV 4/5] END ...................n_neighbors=5;, score=-62.163 total time=   0.0s\n",
            "[CV 5/5] END ...................n_neighbors=5;, score=-57.945 total time=   0.0s\n",
            "[CV 1/5] END ...................n_neighbors=7;, score=-54.875 total time=   0.0s\n",
            "[CV 2/5] END ...................n_neighbors=7;, score=-60.285 total time=   0.0s\n",
            "[CV 3/5] END ...................n_neighbors=7;, score=-67.919 total time=   0.0s\n",
            "[CV 4/5] END ...................n_neighbors=7;, score=-57.345 total time=   0.0s\n",
            "[CV 5/5] END ...................n_neighbors=7;, score=-55.286 total time=   0.0s\n",
            "Fitting 5 folds for each of 3 candidates, totalling 15 fits\n",
            "[CV 1/5] END ...................n_neighbors=3;, score=-56.175 total time=   0.0s\n",
            "[CV 2/5] END ...................n_neighbors=3;, score=-66.240 total time=   0.0s\n",
            "[CV 3/5] END ...................n_neighbors=3;, score=-64.502 total time=   0.0s\n",
            "[CV 4/5] END ...................n_neighbors=3;, score=-68.225 total time=   0.0s\n",
            "[CV 5/5] END ...................n_neighbors=3;, score=-64.916 total time=   0.0s\n",
            "[CV 1/5] END ...................n_neighbors=5;, score=-57.503 total time=   0.0s\n",
            "[CV 2/5] END ...................n_neighbors=5;, score=-66.792 total time=   0.0s\n",
            "[CV 3/5] END ...................n_neighbors=5;, score=-65.454 total time=   0.0s\n",
            "[CV 4/5] END ...................n_neighbors=5;, score=-59.725 total time=   0.0s\n",
            "[CV 5/5] END ...................n_neighbors=5;, score=-58.122 total time=   0.0s\n",
            "[CV 1/5] END ...................n_neighbors=7;, score=-57.701 total time=   0.0s\n",
            "[CV 2/5] END ...................n_neighbors=7;, score=-64.251 total time=   0.0s\n",
            "[CV 3/5] END ...................n_neighbors=7;, score=-63.273 total time=   0.0s\n",
            "[CV 4/5] END ...................n_neighbors=7;, score=-55.765 total time=   0.0s\n",
            "[CV 5/5] END ...................n_neighbors=7;, score=-56.951 total time=   0.0s\n",
            "Fitting 5 folds for each of 3 candidates, totalling 15 fits\n",
            "[CV 1/5] END ...................n_neighbors=3;, score=-59.121 total time=   0.0s\n",
            "[CV 2/5] END ...................n_neighbors=3;, score=-68.799 total time=   0.0s\n",
            "[CV 3/5] END ...................n_neighbors=3;, score=-65.924 total time=   0.0s\n",
            "[CV 4/5] END ...................n_neighbors=3;, score=-65.334 total time=   0.0s\n",
            "[CV 5/5] END ...................n_neighbors=3;, score=-56.971 total time=   0.0s\n",
            "[CV 1/5] END ...................n_neighbors=5;, score=-60.218 total time=   0.0s\n",
            "[CV 2/5] END ...................n_neighbors=5;, score=-67.819 total time=   0.0s\n",
            "[CV 3/5] END ...................n_neighbors=5;, score=-64.478 total time=   0.0s\n",
            "[CV 4/5] END ...................n_neighbors=5;, score=-62.748 total time=   0.0s\n",
            "[CV 5/5] END ...................n_neighbors=5;, score=-56.843 total time=   0.0s\n",
            "[CV 1/5] END ...................n_neighbors=7;, score=-59.413 total time=   0.0s\n",
            "[CV 2/5] END ...................n_neighbors=7;, score=-65.743 total time=   0.0s\n",
            "[CV 3/5] END ...................n_neighbors=7;, score=-62.049 total time=   0.0s\n",
            "[CV 4/5] END ...................n_neighbors=7;, score=-61.137 total time=   0.0s\n",
            "[CV 5/5] END ...................n_neighbors=7;, score=-56.452 total time=   0.0s\n",
            "Fitting 5 folds for each of 3 candidates, totalling 15 fits\n",
            "[CV 1/5] END ...................n_neighbors=3;, score=-59.791 total time=   0.0s\n",
            "[CV 2/5] END ...................n_neighbors=3;, score=-64.404 total time=   0.0s\n",
            "[CV 3/5] END ...................n_neighbors=3;, score=-62.876 total time=   0.0s\n",
            "[CV 4/5] END ...................n_neighbors=3;, score=-64.612 total time=   0.0s\n",
            "[CV 5/5] END ...................n_neighbors=3;, score=-54.356 total time=   0.0s\n",
            "[CV 1/5] END ...................n_neighbors=5;, score=-59.230 total time=   0.0s\n",
            "[CV 2/5] END ...................n_neighbors=5;, score=-64.872 total time=   0.0s\n",
            "[CV 3/5] END ...................n_neighbors=5;, score=-63.094 total time=   0.0s\n",
            "[CV 4/5] END ...................n_neighbors=5;, score=-63.179 total time=   0.0s\n",
            "[CV 5/5] END ...................n_neighbors=5;, score=-54.847 total time=   0.0s\n",
            "[CV 1/5] END ...................n_neighbors=7;, score=-60.041 total time=   0.0s\n",
            "[CV 2/5] END ...................n_neighbors=7;, score=-63.587 total time=   0.0s\n",
            "[CV 3/5] END ...................n_neighbors=7;, score=-61.182 total time=   0.0s\n",
            "[CV 4/5] END ...................n_neighbors=7;, score=-62.156 total time=   0.0s\n",
            "[CV 5/5] END ...................n_neighbors=7;, score=-51.266 total time=   0.0s\n"
          ]
        },
        {
          "output_type": "execute_result",
          "data": {
            "text/plain": [
              "59.1188766578109"
            ]
          },
          "metadata": {},
          "execution_count": 20
        }
      ]
    },
    {
      "cell_type": "code",
      "source": [
        "from sklearn.preprocessing import StandardScaler\n",
        "from sklearn.pipeline import Pipeline\n",
        "\n",
        "pipe = Pipeline([\n",
        "    ('scaler', StandardScaler()),\n",
        "    ('clf', KNeighborsRegressor())\n",
        "])\n",
        "\n",
        "scores = cross_validate(pipe, X, y,\n",
        "                        scoring=make_scorer(mean_squared_error, squared=False))\n",
        "rmse = np.mean(scores['test_score'])\n",
        "print(f\"KNNstd: {rmse}\")"
      ],
      "metadata": {
        "colab": {
          "base_uri": "https://localhost:8080/"
        },
        "id": "hg0WlX94Cinc",
        "outputId": "d7c399ca-91bc-4875-a77f-b349c7078d0a"
      },
      "execution_count": 21,
      "outputs": [
        {
          "output_type": "stream",
          "name": "stdout",
          "text": [
            "KNNstd: 60.45860455510717\n"
          ]
        }
      ]
    },
    {
      "cell_type": "code",
      "source": [
        "modeloGSCV.verbose = 0\n",
        "pipe = Pipeline([\n",
        "    ('scaler', StandardScaler()),\n",
        "    ('clf', modeloGSCV)\n",
        "  ])\n",
        "scores = cross_validate(pipe, X, y,\n",
        "                        scoring=make_scorer(mean_squared_error, squared=False))\n",
        "rmse = np.mean(scores['test_score'])\n",
        "print(f\"GDSstd: {rmse}\")"
      ],
      "metadata": {
        "colab": {
          "base_uri": "https://localhost:8080/"
        },
        "id": "25TKHu-ECxo5",
        "outputId": "0e52778a-024c-45ec-ea60-f10ba8765424"
      },
      "execution_count": 24,
      "outputs": [
        {
          "output_type": "stream",
          "name": "stdout",
          "text": [
            "GDSstd: 58.858529150715086\n"
          ]
        }
      ]
    },
    {
      "cell_type": "code",
      "source": [
        "pipe = Pipeline([\n",
        "    ('scaler', StandardScaler()),\n",
        "    ('clf', KNeighborsRegressor())\n",
        "])\n",
        "param = {'scaler__with_mean': [True, False],\n",
        "         'clf__n_neighbors': [3, 5, 7],\n",
        "         'clf__metric': ['cosine', 'cityblock', 'euclidean']}\n",
        "modeloAninhado = GridSearchCV(pipe, param, verbose=1, cv=5,\n",
        "                      scoring=make_scorer(mean_squared_error,\n",
        "                                          greater_is_better=False,\n",
        "                                          squared=False))\n",
        "scores = cross_validate(modeloAninhado, Xtr, ytr, cv=5, return_estimator=True,\n",
        "                        scoring=make_scorer(mean_squared_error, squared=False))\n",
        "np.mean(scores['test_score'])"
      ],
      "metadata": {
        "colab": {
          "base_uri": "https://localhost:8080/"
        },
        "id": "1-iYelchDDX_",
        "outputId": "e512ec38-a7a8-4c4c-d318-45469c3da204"
      },
      "execution_count": 25,
      "outputs": [
        {
          "output_type": "stream",
          "name": "stdout",
          "text": [
            "Fitting 5 folds for each of 18 candidates, totalling 90 fits\n",
            "Fitting 5 folds for each of 18 candidates, totalling 90 fits\n",
            "Fitting 5 folds for each of 18 candidates, totalling 90 fits\n",
            "Fitting 5 folds for each of 18 candidates, totalling 90 fits\n",
            "Fitting 5 folds for each of 18 candidates, totalling 90 fits\n"
          ]
        },
        {
          "output_type": "execute_result",
          "data": {
            "text/plain": [
              "57.405950086546554"
            ]
          },
          "metadata": {},
          "execution_count": 25
        }
      ]
    },
    {
      "cell_type": "code",
      "source": [
        "for modelo in scores['estimator']:\n",
        "  print(modelo.best_params_)"
      ],
      "metadata": {
        "colab": {
          "base_uri": "https://localhost:8080/"
        },
        "id": "QbubVG4EDUEp",
        "outputId": "36af6228-91a7-4db6-8460-da29c4f017b3"
      },
      "execution_count": 27,
      "outputs": [
        {
          "output_type": "stream",
          "name": "stdout",
          "text": [
            "{'clf__metric': 'cosine', 'clf__n_neighbors': 5, 'scaler__with_mean': False}\n",
            "{'clf__metric': 'cosine', 'clf__n_neighbors': 7, 'scaler__with_mean': True}\n",
            "{'clf__metric': 'cosine', 'clf__n_neighbors': 7, 'scaler__with_mean': False}\n",
            "{'clf__metric': 'cosine', 'clf__n_neighbors': 7, 'scaler__with_mean': False}\n",
            "{'clf__metric': 'cosine', 'clf__n_neighbors': 7, 'scaler__with_mean': False}\n"
          ]
        }
      ]
    }
  ]
}