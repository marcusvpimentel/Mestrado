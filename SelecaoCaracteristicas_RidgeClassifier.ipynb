{
  "cells": [
    {
      "cell_type": "markdown",
      "metadata": {
        "id": "view-in-github",
        "colab_type": "text"
      },
      "source": [
        "<a href=\"https://colab.research.google.com/github/marcusvpimentel/Mestrado/blob/main/SelecaoCaracteristicas_RidgeClassifier.ipynb\" target=\"_parent\"><img src=\"https://colab.research.google.com/assets/colab-badge.svg\" alt=\"Open In Colab\"/></a>"
      ]
    },
    {
      "cell_type": "code",
      "execution_count": null,
      "metadata": {
        "colab": {
          "base_uri": "https://localhost:8080/"
        },
        "id": "DBry6JxRC-tj",
        "outputId": "eac7c9b9-1a59-4845-ec69-bfe1da4b9ac1"
      },
      "outputs": [
        {
          "output_type": "execute_result",
          "data": {
            "text/plain": [
              "(581012, 54)"
            ]
          },
          "metadata": {},
          "execution_count": 1
        }
      ],
      "source": [
        "from sklearn.datasets import fetch_covtype\n",
        "\n",
        "\n",
        "fetch = fetch_covtype()\n",
        "X = fetch.data  # Features\n",
        "y = fetch.target  # Target labels\n",
        "X.shape"
      ]
    },
    {
      "cell_type": "code",
      "execution_count": null,
      "metadata": {
        "colab": {
          "base_uri": "https://localhost:8080/"
        },
        "id": "uLnuwJHaD-IR",
        "outputId": "39b93a07-a9ab-42e3-b386-dcaa5fc4cc4c"
      },
      "outputs": [
        {
          "output_type": "execute_result",
          "data": {
            "text/plain": [
              "({'fit_time': array([1.20570779, 0.93368816, 0.9241066 , 0.91588545, 0.91900516]),\n",
              "  'score_time': array([0.0440917 , 0.04110813, 0.03812432, 0.04037738, 0.04123735]),\n",
              "  'test_score': array([0.58947704, 0.76359474, 0.62652106, 0.67569405, 0.54031772])},\n",
              " 0.639120922063683)"
            ]
          },
          "metadata": {},
          "execution_count": 2
        }
      ],
      "source": [
        "from sklearn.metrics import accuracy_score\n",
        "from sklearn.model_selection import cross_validate\n",
        "from sklearn.linear_model import RidgeClassifier\n",
        "import numpy as np\n",
        "\n",
        "#processando com RandomForestClassifier sem seleção\n",
        "model = RidgeClassifier()\n",
        "model.fit(X, y)\n",
        "\n",
        "ypred = model.predict(X)\n",
        "\n",
        "scores = cross_validate(model, X, y)\n",
        "scores, np.mean(scores['test_score'])"
      ]
    },
    {
      "cell_type": "markdown",
      "metadata": {
        "id": "53bqOQd9sCLX"
      },
      "source": [
        "### SelectKBest\n",
        "### 0.6595197564339774 k=2 score_func=f_classif"
      ]
    },
    {
      "cell_type": "code",
      "execution_count": null,
      "metadata": {
        "colab": {
          "base_uri": "https://localhost:8080/"
        },
        "id": "fwIWyHq9EJWe",
        "outputId": "fbde1144-cd07-49e6-81fd-69ba943d98f7"
      },
      "outputs": [
        {
          "output_type": "execute_result",
          "data": {
            "text/plain": [
              "(581012, 20)"
            ]
          },
          "metadata": {},
          "execution_count": 18
        }
      ],
      "source": [
        "from sklearn.feature_selection import SelectKBest, chi2\n",
        "\n",
        "X_new = SelectKBest(k=20).fit_transform(X, y)\n",
        "X_new.shape"
      ]
    },
    {
      "cell_type": "code",
      "execution_count": null,
      "metadata": {
        "colab": {
          "base_uri": "https://localhost:8080/"
        },
        "id": "4x9E1rkgE8qk",
        "outputId": "bd0692da-5a89-48e7-fba1-a635502e0f9d"
      },
      "outputs": [
        {
          "output_type": "execute_result",
          "data": {
            "text/plain": [
              "({'fit_time': array([0.62196064, 0.61787701, 0.6099987 , 0.63689113, 0.61208057]),\n",
              "  'score_time': array([0.02884984, 0.04112673, 0.0401845 , 0.04006982, 0.02843618]),\n",
              "  'test_score': array([0.58767846, 0.76374965, 0.65109034, 0.6861844 , 0.51887231])},\n",
              " 0.6415150317066758)"
            ]
          },
          "metadata": {},
          "execution_count": 19
        }
      ],
      "source": [
        "#processando com RandomForestClassifier COM seleção SelectKBest\n",
        "model.fit(X_new, y)\n",
        "\n",
        "ypred = model.predict(X_new)\n",
        "\n",
        "scores = cross_validate(model, X_new, y)\n",
        "scores, np.mean(scores['test_score'])"
      ]
    },
    {
      "cell_type": "code",
      "execution_count": null,
      "metadata": {
        "colab": {
          "base_uri": "https://localhost:8080/"
        },
        "id": "Zjx_bNWxIuPY",
        "outputId": "27f10284-d181-473b-f180-5dfadd57df83"
      },
      "outputs": [
        {
          "output_type": "execute_result",
          "data": {
            "text/plain": [
              "(581012, 10)"
            ]
          },
          "metadata": {},
          "execution_count": 3
        }
      ],
      "source": [
        "from sklearn.feature_selection import SelectKBest, chi2\n",
        "#reduzindo as caracteristicas\n",
        "X_new = SelectKBest(k=10).fit_transform(X, y)\n",
        "X_new.shape"
      ]
    },
    {
      "cell_type": "code",
      "execution_count": null,
      "metadata": {
        "colab": {
          "base_uri": "https://localhost:8080/"
        },
        "id": "bxhndTMPKQlH",
        "outputId": "0346a5ea-8f6c-4181-da79-4500173419a0"
      },
      "outputs": [
        {
          "output_type": "execute_result",
          "data": {
            "text/plain": [
              "({'fit_time': array([0.58153772, 0.6527338 , 0.60088658, 0.6123085 , 0.47587657]),\n",
              "  'score_time': array([0.04368401, 0.02687192, 0.0458293 , 0.04173326, 0.02314329]),\n",
              "  'test_score': array([0.59187801, 0.7675017 , 0.66481644, 0.66025542, 0.50586048])},\n",
              " 0.6380624096320094)"
            ]
          },
          "metadata": {},
          "execution_count": 22
        }
      ],
      "source": [
        "model = RidgeClassifier()\n",
        "model.fit(X_new, y)\n",
        "\n",
        "ypred = model.predict(X_new)\n",
        "#processando com RandomForestClassifier COM menos caracteristicas SelectKBest\n",
        "scores = cross_validate(model, X_new, y)\n",
        "scores, np.mean(scores['test_score'])"
      ]
    },
    {
      "cell_type": "code",
      "execution_count": null,
      "metadata": {
        "colab": {
          "base_uri": "https://localhost:8080/"
        },
        "id": "CINtFzvQcav1",
        "outputId": "652f9b5b-75ab-4853-cb1c-880a78620771"
      },
      "outputs": [
        {
          "output_type": "execute_result",
          "data": {
            "text/plain": [
              "(581012, 30)"
            ]
          },
          "metadata": {},
          "execution_count": 23
        }
      ],
      "source": [
        "from sklearn.feature_selection import SelectKBest, chi2\n",
        "#reduzindo as caracteristicas\n",
        "X_new = SelectKBest(k=30).fit_transform(X, y)\n",
        "X_new.shape"
      ]
    },
    {
      "cell_type": "code",
      "execution_count": null,
      "metadata": {
        "colab": {
          "base_uri": "https://localhost:8080/"
        },
        "id": "sLLUcyAdMIjp",
        "outputId": "50a74dcb-9757-4acf-fd3a-3c2ebcd4ea2a"
      },
      "outputs": [
        {
          "output_type": "execute_result",
          "data": {
            "text/plain": [
              "({'fit_time': array([0.7991941 , 0.82500315, 0.81977248, 0.81916356, 0.80139279]),\n",
              "  'score_time': array([0.03433418, 0.03608871, 0.044945  , 0.03971887, 0.0357008 ]),\n",
              "  'test_score': array([0.5976696 , 0.7723983 , 0.64873238, 0.68111564, 0.53974975])},\n",
              " 0.6479331335641411)"
            ]
          },
          "metadata": {},
          "execution_count": 24
        }
      ],
      "source": [
        "model = RidgeClassifier()\n",
        "model.fit(X_new, y)\n",
        "\n",
        "ypred = model.predict(X_new)\n",
        "#processando com RandomForestClassifier COM mais caracteristicas SelectKBest\n",
        "scores = cross_validate(model, X_new, y)\n",
        "scores, np.mean(scores['test_score'])"
      ]
    },
    {
      "cell_type": "code",
      "execution_count": null,
      "metadata": {
        "colab": {
          "base_uri": "https://localhost:8080/"
        },
        "id": "CyZT3dzFrQ6c",
        "outputId": "35b2fcf7-415c-421d-8019-6c691bf4e3f7"
      },
      "outputs": [
        {
          "output_type": "execute_result",
          "data": {
            "text/plain": [
              "(581012, 5)"
            ]
          },
          "metadata": {},
          "execution_count": 25
        }
      ],
      "source": [
        "from sklearn.feature_selection import SelectKBest, chi2\n",
        "#reduzindo as caracteristicas\n",
        "X_new = SelectKBest(k=5).fit_transform(X, y)\n",
        "X_new.shape"
      ]
    },
    {
      "cell_type": "code",
      "execution_count": null,
      "metadata": {
        "colab": {
          "base_uri": "https://localhost:8080/"
        },
        "id": "dBSvfGLbrT88",
        "outputId": "ceeb9abc-380b-434e-81a2-ad07cac0499d"
      },
      "outputs": [
        {
          "output_type": "execute_result",
          "data": {
            "text/plain": [
              "({'fit_time': array([0.27680826, 0.31883168, 0.30713391, 0.30669284, 0.35737681]),\n",
              "  'score_time': array([0.01864743, 0.01847124, 0.01852417, 0.01870799, 0.02765441]),\n",
              "  'test_score': array([0.66504307, 0.75719216, 0.69461799, 0.64523846, 0.52509423])},\n",
              " 0.6574371831203829)"
            ]
          },
          "metadata": {},
          "execution_count": 26
        }
      ],
      "source": [
        "model = RidgeClassifier()\n",
        "model.fit(X_new, y)\n",
        "\n",
        "ypred = model.predict(X_new)\n",
        "#processando com RandomForestClassifier COM 5 caracteristicas SelectKBest\n",
        "scores = cross_validate(model, X_new, y)\n",
        "scores, np.mean(scores['test_score'])"
      ]
    },
    {
      "cell_type": "code",
      "execution_count": null,
      "metadata": {
        "colab": {
          "base_uri": "https://localhost:8080/"
        },
        "id": "eJ9eR99OLh5s",
        "outputId": "187147b3-453b-4d31-832b-5ccb10fc7ca0"
      },
      "outputs": [
        {
          "output_type": "execute_result",
          "data": {
            "text/plain": [
              "(581012, 5)"
            ]
          },
          "metadata": {},
          "execution_count": 27
        }
      ],
      "source": [
        "from sklearn.feature_selection import SelectKBest, f_classif\n",
        "#reduzindo as caracteristicas\n",
        "X_new = SelectKBest(score_func=f_classif, k=5).fit_transform(X, y)\n",
        "X_new.shape"
      ]
    },
    {
      "cell_type": "code",
      "execution_count": null,
      "metadata": {
        "colab": {
          "base_uri": "https://localhost:8080/"
        },
        "id": "3UcuUnWwLr2k",
        "outputId": "325a9f10-e12a-498d-cae4-ffd9207bbe70"
      },
      "outputs": [
        {
          "output_type": "execute_result",
          "data": {
            "text/plain": [
              "({'fit_time': array([0.47531128, 0.47246909, 0.38540792, 0.34784722, 0.35703492]),\n",
              "  'score_time': array([0.03242302, 0.03979349, 0.01959181, 0.02006388, 0.02040148]),\n",
              "  'test_score': array([0.66504307, 0.75719216, 0.69461799, 0.64523846, 0.52509423])},\n",
              " 0.6574371831203829)"
            ]
          },
          "metadata": {},
          "execution_count": 28
        }
      ],
      "source": [
        "model = RidgeClassifier()\n",
        "model.fit(X_new, y)\n",
        "\n",
        "ypred = model.predict(X_new)\n",
        "#processando com RandomForestClassifier COM 5 caracteristicas SelectKBest\n",
        "scores = cross_validate(model, X_new, y)\n",
        "scores, np.mean(scores['test_score'])"
      ]
    },
    {
      "cell_type": "code",
      "source": [
        "from sklearn.feature_selection import SelectKBest, f_classif\n",
        "#reduzindo as caracteristicas\n",
        "X_new = SelectKBest(score_func=f_classif, k=2).fit_transform(X, y)\n",
        "X_new.shape"
      ],
      "metadata": {
        "colab": {
          "base_uri": "https://localhost:8080/"
        },
        "id": "KnSHoASUzzSw",
        "outputId": "b57802fc-06a6-4c6d-f337-12f11d6c6dc0"
      },
      "execution_count": null,
      "outputs": [
        {
          "output_type": "execute_result",
          "data": {
            "text/plain": [
              "(581012, 2)"
            ]
          },
          "metadata": {},
          "execution_count": 50
        }
      ]
    },
    {
      "cell_type": "code",
      "source": [
        "model = RidgeClassifier()\n",
        "model.fit(X_new, y)\n",
        "\n",
        "ypred = model.predict(X_new)\n",
        "#processando com RandomForestClassifier COM 5 caracteristicas SelectKBest\n",
        "scores = cross_validate(model, X_new, y)\n",
        "scores, np.mean(scores['test_score'])"
      ],
      "metadata": {
        "colab": {
          "base_uri": "https://localhost:8080/"
        },
        "id": "39EexrZpz0lN",
        "outputId": "666748ce-c2ec-42e5-df9e-a6e4912b38ab"
      },
      "execution_count": null,
      "outputs": [
        {
          "output_type": "execute_result",
          "data": {
            "text/plain": [
              "({'fit_time': array([0.82739925, 0.72611022, 0.43074703, 0.66411066, 0.89734578]),\n",
              "  'score_time': array([0.03834367, 0.05034065, 0.03351426, 0.03513122, 0.05962729]),\n",
              "  'test_score': array([0.66743544, 0.75887886, 0.69897248, 0.64334521, 0.5289668 ])},\n",
              " 0.6595197564339774)"
            ]
          },
          "metadata": {},
          "execution_count": 51
        }
      ]
    },
    {
      "cell_type": "markdown",
      "source": [
        "### LogisticRegression - SelectKBest - 0.6578967385929874"
      ],
      "metadata": {
        "id": "AOYt_X_7zcUL"
      }
    },
    {
      "cell_type": "code",
      "source": [
        "from sklearn.feature_selection import SelectKBest, f_classif\n",
        "#reduzindo as caracteristicas\n",
        "X_new = SelectKBest(score_func=f_classif, k=2).fit_transform(X, y)\n",
        "X_new.shape"
      ],
      "metadata": {
        "colab": {
          "base_uri": "https://localhost:8080/"
        },
        "id": "aAhlqwsLIkjq",
        "outputId": "d5e6b522-9aa0-4ea4-ac29-08706acb147d"
      },
      "execution_count": null,
      "outputs": [
        {
          "output_type": "execute_result",
          "data": {
            "text/plain": [
              "(581012, 2)"
            ]
          },
          "metadata": {},
          "execution_count": 29
        }
      ]
    },
    {
      "cell_type": "code",
      "source": [
        "import sklearn.linear_model\n",
        "from sklearn.model_selection import cross_validate\n",
        "import numpy as np\n",
        "\n",
        "model = sklearn.linear_model.LogisticRegression(solver='liblinear')\n",
        "\n",
        "model.fit(X_new, y)\n",
        "ypred = model.predict(X_new)\n",
        "scores = cross_validate(model, X_new, y)\n",
        "scores, np.mean(scores['test_score'])"
      ],
      "metadata": {
        "colab": {
          "base_uri": "https://localhost:8080/"
        },
        "id": "nSHU2mlHzIF9",
        "outputId": "75e33022-d793-4d63-8b77-fd34a497fc67"
      },
      "execution_count": null,
      "outputs": [
        {
          "output_type": "execute_result",
          "data": {
            "text/plain": [
              "({'fit_time': array([ 9.93536305,  7.1817131 , 10.36603928,  6.91096449,  6.57015729]),\n",
              "  'score_time': array([0.04524779, 0.06497741, 0.02355814, 0.04139566, 0.02196836]),\n",
              "  'test_score': array([0.66055093, 0.75535916, 0.69076264, 0.64425741, 0.53855355])},\n",
              " 0.6578967385929874)"
            ]
          },
          "metadata": {},
          "execution_count": 30
        }
      ]
    },
    {
      "cell_type": "markdown",
      "metadata": {
        "id": "QVmtfHY5r9xN"
      },
      "source": [
        "### SelectFromModel - 0.5461865906838833"
      ]
    },
    {
      "cell_type": "code",
      "execution_count": null,
      "metadata": {
        "colab": {
          "base_uri": "https://localhost:8080/"
        },
        "id": "wOR37huwrrBT",
        "outputId": "c0e42407-b1ee-416a-a0d9-6260e5a7ae92"
      },
      "outputs": [
        {
          "output_type": "execute_result",
          "data": {
            "text/plain": [
              "({'fit_time': array([0.48004603, 0.63993669, 0.62164378, 0.6024909 , 0.61686206]),\n",
              "  'score_time': array([0.02626324, 0.02778888, 0.027668  , 0.02822471, 0.0280261 ]),\n",
              "  'test_score': array([0.55172414, 0.57722262, 0.56330356, 0.4951722 , 0.54351044])},\n",
              " 0.5461865906838833)"
            ]
          },
          "metadata": {},
          "execution_count": 31
        }
      ],
      "source": [
        "from sklearn.feature_selection import SelectFromModel\n",
        "\n",
        "# estimator = RandomForestClassifier(n_estimators=100, random_state=42)\n",
        "model = RidgeClassifier()\n",
        "\n",
        "# Initialize SelectFromModel with the estimator and the threshold for feature selection\n",
        "selector = SelectFromModel(model, threshold=\"mean\")\n",
        "\n",
        "# Fit the selector on the data\n",
        "model.fit(X, y)\n",
        "\n",
        "# Transform the features to select the most important ones\n",
        "X_new = selector.transform(X)\n",
        "\n",
        "#ypred = model.predict(X_new)\n",
        "\n",
        "scores = cross_validate(model, X_new, y)\n",
        "scores, np.mean(scores['test_score'])\n"
      ]
    },
    {
      "cell_type": "markdown",
      "metadata": {
        "id": "e0jHHVu-Cgr5"
      },
      "source": [
        "### SelectFwe, chi2 0.639120922063683\n"
      ]
    },
    {
      "cell_type": "code",
      "execution_count": null,
      "metadata": {
        "colab": {
          "base_uri": "https://localhost:8080/"
        },
        "id": "hlk3fc0nCjy6",
        "outputId": "f6d11e49-17e5-4a22-f646-efcbfa4feb2e"
      },
      "outputs": [
        {
          "output_type": "execute_result",
          "data": {
            "text/plain": [
              "(581012, 54)"
            ]
          },
          "metadata": {},
          "execution_count": 32
        }
      ],
      "source": [
        "from sklearn.feature_selection import SelectFwe, f_classif\n",
        "\n",
        "X_new = SelectFwe(score_func=f_classif, alpha=0.01).fit_transform(X, y)\n",
        "X_new.shape"
      ]
    },
    {
      "cell_type": "code",
      "execution_count": null,
      "metadata": {
        "colab": {
          "base_uri": "https://localhost:8080/"
        },
        "id": "ABnQwikjC1v6",
        "outputId": "ccc94163-7b63-4698-e62f-095d86a6ca34"
      },
      "outputs": [
        {
          "output_type": "execute_result",
          "data": {
            "text/plain": [
              "({'fit_time': array([1.3345108 , 1.31558871, 1.31111526, 1.32604218, 1.3172636 ]),\n",
              "  'score_time': array([0.05315399, 0.0525763 , 0.04902983, 0.048311  , 0.04775286]),\n",
              "  'test_score': array([0.58947704, 0.76359474, 0.62652106, 0.67569405, 0.54031772])},\n",
              " 0.639120922063683)"
            ]
          },
          "metadata": {},
          "execution_count": 33
        }
      ],
      "source": [
        "model = RidgeClassifier()\n",
        "model.fit(X_new, y)\n",
        "\n",
        "ypred = model.predict(X_new)\n",
        "#processando com RandomForestClassifier COM 5 caracteristicas SelectKBest\n",
        "scores = cross_validate(model, X_new, y)\n",
        "scores, np.mean(scores['test_score'])"
      ]
    },
    {
      "cell_type": "code",
      "execution_count": null,
      "metadata": {
        "colab": {
          "base_uri": "https://localhost:8080/"
        },
        "id": "NzEoOiU4LC_W",
        "outputId": "8413fbc8-8a67-4882-84f3-05d2380da6c7"
      },
      "outputs": [
        {
          "output_type": "execute_result",
          "data": {
            "text/plain": [
              "(581012, 54)"
            ]
          },
          "metadata": {},
          "execution_count": 34
        }
      ],
      "source": [
        "X_new = SelectFwe(score_func=f_classif, alpha=0.05).fit_transform(X, y)\n",
        "\n",
        "X_new.shape"
      ]
    },
    {
      "cell_type": "code",
      "execution_count": null,
      "metadata": {
        "colab": {
          "base_uri": "https://localhost:8080/"
        },
        "id": "g2Poy4tdMUwU",
        "outputId": "cda13c37-3416-452d-a5ed-af5a84f62fa1"
      },
      "outputs": [
        {
          "output_type": "execute_result",
          "data": {
            "text/plain": [
              "({'fit_time': array([1.50648308, 1.29023981, 1.30736256, 1.30694437, 1.32438803]),\n",
              "  'score_time': array([0.04839993, 0.06842589, 0.04696655, 0.04754424, 0.0566628 ]),\n",
              "  'test_score': array([0.58947704, 0.76359474, 0.62652106, 0.67569405, 0.54031772])},\n",
              " 0.639120922063683)"
            ]
          },
          "metadata": {},
          "execution_count": 35
        }
      ],
      "source": [
        "model = RidgeClassifier()\n",
        "model.fit(X_new, y)\n",
        "\n",
        "ypred = model.predict(X_new)\n",
        "#processando com RandomForestClassifier COM 5 caracteristicas SelectKBest\n",
        "scores = cross_validate(model, X_new, y)\n",
        "scores, np.mean(scores['test_score'])"
      ]
    },
    {
      "cell_type": "markdown",
      "source": [
        "### SelectPercentile Best 0.6574371831203829\n",
        "percentile=8"
      ],
      "metadata": {
        "id": "TTHVTFfAJEPy"
      }
    },
    {
      "cell_type": "code",
      "source": [
        "from sklearn.feature_selection import SelectPercentile, chi2\n",
        "X_new = SelectPercentile(score_func=f_classif, percentile=10).fit_transform(X, y)\n",
        "X_new.shape\n"
      ],
      "metadata": {
        "colab": {
          "base_uri": "https://localhost:8080/"
        },
        "id": "0gqjKnHNJIoo",
        "outputId": "9f942303-b624-4a47-c971-c345d4428b28"
      },
      "execution_count": null,
      "outputs": [
        {
          "output_type": "execute_result",
          "data": {
            "text/plain": [
              "(581012, 6)"
            ]
          },
          "metadata": {},
          "execution_count": 36
        }
      ]
    },
    {
      "cell_type": "code",
      "source": [
        "model = RidgeClassifier()\n",
        "model.fit(X_new, y)\n",
        "\n",
        "ypred = model.predict(X_new)\n",
        "#processando com RandomForestClassifier SelectPercentile 10\n",
        "scores = cross_validate(model, X_new, y)\n",
        "scores, np.mean(scores['test_score'])"
      ],
      "metadata": {
        "colab": {
          "base_uri": "https://localhost:8080/"
        },
        "id": "KpHUscAeJjX_",
        "outputId": "baa2e57b-7172-4b67-f8bb-e23bf0810048"
      },
      "execution_count": null,
      "outputs": [
        {
          "output_type": "execute_result",
          "data": {
            "text/plain": [
              "({'fit_time': array([0.35934663, 0.37514424, 0.38268256, 0.42440844, 0.40201211]),\n",
              "  'score_time': array([0.02186298, 0.02020645, 0.02088928, 0.0207963 , 0.02078342]),\n",
              "  'test_score': array([0.65963013, 0.75486864, 0.69313781, 0.64578923, 0.52382059])},\n",
              " 0.6554492788441418)"
            ]
          },
          "metadata": {},
          "execution_count": 37
        }
      ]
    },
    {
      "cell_type": "code",
      "source": [
        "from sklearn.feature_selection import SelectPercentile, chi2\n",
        "X_new = SelectPercentile(score_func=f_classif, percentile=8).fit_transform(X, y)\n",
        "X_new.shape"
      ],
      "metadata": {
        "colab": {
          "base_uri": "https://localhost:8080/"
        },
        "id": "71LcXp81Kwfu",
        "outputId": "52487c2d-e00e-47df-b5b3-515472c1ec95"
      },
      "execution_count": null,
      "outputs": [
        {
          "output_type": "execute_result",
          "data": {
            "text/plain": [
              "(581012, 5)"
            ]
          },
          "metadata": {},
          "execution_count": 38
        }
      ]
    },
    {
      "cell_type": "code",
      "source": [
        "model = RidgeClassifier()\n",
        "model.fit(X_new, y)\n",
        "\n",
        "ypred = model.predict(X_new)\n",
        "#processando com RandomForestClassifier COM SelectPercentile 8\n",
        "scores = cross_validate(model, X_new, y)\n",
        "scores, np.mean(scores['test_score'])"
      ],
      "metadata": {
        "colab": {
          "base_uri": "https://localhost:8080/"
        },
        "id": "6RbgF4yDLygI",
        "outputId": "159e21c1-e559-44b9-d80c-ad7c196b567f"
      },
      "execution_count": null,
      "outputs": [
        {
          "output_type": "execute_result",
          "data": {
            "text/plain": [
              "({'fit_time': array([0.45585871, 0.48884535, 0.50069666, 0.42814803, 0.35297608]),\n",
              "  'score_time': array([0.04036164, 0.03959775, 0.03842068, 0.01981139, 0.02524018]),\n",
              "  'test_score': array([0.66504307, 0.75719216, 0.69461799, 0.64523846, 0.52509423])},\n",
              " 0.6574371831203829)"
            ]
          },
          "metadata": {},
          "execution_count": 39
        }
      ]
    },
    {
      "cell_type": "code",
      "source": [
        "from sklearn.feature_selection import SelectPercentile, chi2\n",
        "X_new = SelectPercentile(score_func=f_classif, percentile=15).fit_transform(X, y)\n",
        "X_new.shape"
      ],
      "metadata": {
        "colab": {
          "base_uri": "https://localhost:8080/"
        },
        "id": "sX_TnmwINBWi",
        "outputId": "15d0012c-1149-48b1-8a54-0f427e5dd6e9"
      },
      "execution_count": null,
      "outputs": [
        {
          "output_type": "execute_result",
          "data": {
            "text/plain": [
              "(581012, 8)"
            ]
          },
          "metadata": {},
          "execution_count": 40
        }
      ]
    },
    {
      "cell_type": "code",
      "source": [
        "model = RidgeClassifier()\n",
        "model.fit(X_new, y)\n",
        "\n",
        "ypred = model.predict(X_new)\n",
        "#processando com RandomForestClassifier COM SelectPercentile 15\n",
        "scores = cross_validate(model, X_new, y)\n",
        "scores, np.mean(scores['test_score'])"
      ],
      "metadata": {
        "colab": {
          "base_uri": "https://localhost:8080/"
        },
        "id": "CldgX3-sNDyP",
        "outputId": "80bf21c8-3304-478c-854e-5a22499163d8"
      },
      "execution_count": null,
      "outputs": [
        {
          "output_type": "execute_result",
          "data": {
            "text/plain": [
              "({'fit_time': array([0.36476135, 0.40802741, 0.39836383, 0.40017748, 0.40344357]),\n",
              "  'score_time': array([0.02137423, 0.02579284, 0.0211556 , 0.0210793 , 0.02197838]),\n",
              "  'test_score': array([0.63099059, 0.75823344, 0.67924821, 0.6378978 , 0.51972427])},\n",
              " 0.6452188615961337)"
            ]
          },
          "metadata": {},
          "execution_count": 41
        }
      ]
    },
    {
      "cell_type": "code",
      "source": [
        "from sklearn.feature_selection import SelectPercentile, chi2\n",
        "X_new = SelectPercentile(score_func=f_classif, percentile=20).fit_transform(X, y)\n",
        "X_new.shape"
      ],
      "metadata": {
        "colab": {
          "base_uri": "https://localhost:8080/"
        },
        "id": "9aZf7jaoOKil",
        "outputId": "729dab01-59fa-41ab-8ff6-0f479e462029"
      },
      "execution_count": null,
      "outputs": [
        {
          "output_type": "execute_result",
          "data": {
            "text/plain": [
              "(581012, 11)"
            ]
          },
          "metadata": {},
          "execution_count": 42
        }
      ]
    },
    {
      "cell_type": "code",
      "source": [
        "model = RidgeClassifier()\n",
        "model.fit(X_new, y)\n",
        "\n",
        "ypred = model.predict(X_new)\n",
        "#processando com RandomForestClassifier COM SelectPercentile 20\n",
        "scores = cross_validate(model, X_new, y)\n",
        "scores, np.mean(scores['test_score'])"
      ],
      "metadata": {
        "colab": {
          "base_uri": "https://localhost:8080/"
        },
        "id": "u0oebR5iOM6V",
        "outputId": "61fdb9c7-b0bd-49dc-bb06-3961f5ce595d"
      },
      "execution_count": null,
      "outputs": [
        {
          "output_type": "execute_result",
          "data": {
            "text/plain": [
              "({'fit_time': array([0.45453072, 0.47792053, 0.47934508, 0.46825171, 0.47238541]),\n",
              "  'score_time': array([0.02612472, 0.02344561, 0.02342749, 0.02210164, 0.02376413]),\n",
              "  'test_score': array([0.58786778, 0.76815573, 0.66546187, 0.66296621, 0.50601539])},\n",
              " 0.6380933959423924)"
            ]
          },
          "metadata": {},
          "execution_count": 43
        }
      ]
    },
    {
      "cell_type": "code",
      "source": [
        "from sklearn.feature_selection import SelectPercentile, chi2\n",
        "X_new = SelectPercentile(score_func=f_classif, percentile=25).fit_transform(X, y)\n",
        "X_new.shape"
      ],
      "metadata": {
        "colab": {
          "base_uri": "https://localhost:8080/"
        },
        "id": "QTdKpY3gPIs_",
        "outputId": "8d572272-92da-4d3e-9110-e8c4fd8fa467"
      },
      "execution_count": null,
      "outputs": [
        {
          "output_type": "execute_result",
          "data": {
            "text/plain": [
              "(581012, 14)"
            ]
          },
          "metadata": {},
          "execution_count": 44
        }
      ]
    },
    {
      "cell_type": "code",
      "source": [
        "model = RidgeClassifier()\n",
        "model.fit(X_new, y)\n",
        "\n",
        "ypred = model.predict(X_new)\n",
        "#processando com RandomForestClassifier COM SelectPercentile 25\n",
        "scores = cross_validate(model, X_new, y)\n",
        "scores, np.mean(scores['test_score'])"
      ],
      "metadata": {
        "colab": {
          "base_uri": "https://localhost:8080/"
        },
        "id": "wSViQJF_Pc19",
        "outputId": "3e341c7f-4688-4cf0-cd0f-e50beca59c45"
      },
      "execution_count": null,
      "outputs": [
        {
          "output_type": "execute_result",
          "data": {
            "text/plain": [
              "({'fit_time': array([0.64039636, 0.69471073, 0.70142174, 0.70294857, 0.51173186]),\n",
              "  'score_time': array([0.05290008, 0.04559278, 0.05464458, 0.02558017, 0.02440405]),\n",
              "  'test_score': array([0.56543291, 0.77755308, 0.6362455 , 0.66461851, 0.50302921])},\n",
              " 0.6293758403711099)"
            ]
          },
          "metadata": {},
          "execution_count": 45
        }
      ]
    },
    {
      "cell_type": "code",
      "source": [
        "from sklearn.feature_selection import SelectPercentile, chi2\n",
        "X_new = SelectPercentile(score_func=f_classif, percentile=15).fit_transform(X, y)\n",
        "X_new.shape"
      ],
      "metadata": {
        "colab": {
          "base_uri": "https://localhost:8080/"
        },
        "id": "uW-ofgkb6BrP",
        "outputId": "c24cc238-ef42-41c4-edd7-58ab470c17b8"
      },
      "execution_count": null,
      "outputs": [
        {
          "output_type": "execute_result",
          "data": {
            "text/plain": [
              "(581012, 8)"
            ]
          },
          "metadata": {},
          "execution_count": 46
        }
      ]
    },
    {
      "cell_type": "code",
      "source": [
        "from sklearn.model_selection import cross_validate\n",
        "from sklearn.linear_model import RidgeClassifier\n",
        "import numpy as np\n",
        "\n",
        "modelo = RidgeClassifier()\n",
        "scores = cross_validate(modelo, X, y)\n",
        "scores, np.mean(scores['test_score'])\n"
      ],
      "metadata": {
        "colab": {
          "base_uri": "https://localhost:8080/"
        },
        "id": "eOJRQea75rXN",
        "outputId": "b2011d33-cbe7-45f2-95c8-5365efd9dafc"
      },
      "execution_count": null,
      "outputs": [
        {
          "output_type": "execute_result",
          "data": {
            "text/plain": [
              "({'fit_time': array([1.2000854 , 1.23283863, 1.22884607, 1.22064424, 1.18270135]),\n",
              "  'score_time': array([0.04738641, 0.05291653, 0.04731679, 0.04707289, 0.04863071]),\n",
              "  'test_score': array([0.58947704, 0.76359474, 0.62652106, 0.67569405, 0.54031772])},\n",
              " 0.639120922063683)"
            ]
          },
          "metadata": {},
          "execution_count": 47
        }
      ]
    },
    {
      "cell_type": "markdown",
      "source": [
        "### RFE - 0.639120922063683"
      ],
      "metadata": {
        "id": "FNpx8upNbqlj"
      }
    },
    {
      "cell_type": "code",
      "source": [
        "from sklearn.feature_selection import SelectFpr, f_classif\n",
        "X_new = SelectFpr(score_func=f_classif, alpha=0.5).fit_transform(X, y)\n",
        "X_new.shape"
      ],
      "metadata": {
        "colab": {
          "base_uri": "https://localhost:8080/"
        },
        "id": "gIkvd9QEbxbc",
        "outputId": "008d67bd-dd2c-4a2e-9923-5d19e55fce14"
      },
      "execution_count": null,
      "outputs": [
        {
          "output_type": "execute_result",
          "data": {
            "text/plain": [
              "(581012, 54)"
            ]
          },
          "metadata": {},
          "execution_count": 48
        }
      ]
    },
    {
      "cell_type": "code",
      "source": [
        "model = RidgeClassifier()\n",
        "\n",
        "model.fit(X_new, y)\n",
        "\n",
        "ypred = model.predict(X_new)\n",
        "#processando com RandomForestClassifier COM SelectPercentile 25\n",
        "scores = cross_validate(model, X_new, y)\n",
        "scores, np.mean(scores['test_score'])"
      ],
      "metadata": {
        "colab": {
          "base_uri": "https://localhost:8080/"
        },
        "id": "bgdoJ2Askel8",
        "outputId": "d70445cf-b642-4d96-814a-d175aa1d7a5c"
      },
      "execution_count": null,
      "outputs": [
        {
          "output_type": "execute_result",
          "data": {
            "text/plain": [
              "({'fit_time': array([1.47059059, 1.28322339, 1.29433155, 1.26882625, 1.27978849]),\n",
              "  'score_time': array([0.04871774, 0.05517149, 0.04777503, 0.04778981, 0.0480926 ]),\n",
              "  'test_score': array([0.58947704, 0.76359474, 0.62652106, 0.67569405, 0.54031772])},\n",
              " 0.639120922063683)"
            ]
          },
          "metadata": {},
          "execution_count": 49
        }
      ]
    }
  ],
  "metadata": {
    "colab": {
      "provenance": [],
      "collapsed_sections": [
        "53bqOQd9sCLX",
        "QVmtfHY5r9xN",
        "e0jHHVu-Cgr5"
      ],
      "authorship_tag": "ABX9TyMGG3Kh+YQIDfut5Nfn3As9",
      "include_colab_link": true
    },
    "kernelspec": {
      "display_name": "Python 3",
      "name": "python3"
    },
    "language_info": {
      "name": "python"
    }
  },
  "nbformat": 4,
  "nbformat_minor": 0
}