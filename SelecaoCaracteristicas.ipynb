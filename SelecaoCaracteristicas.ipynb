{
  "cells": [
    {
      "cell_type": "markdown",
      "metadata": {
        "id": "view-in-github",
        "colab_type": "text"
      },
      "source": [
        "<a href=\"https://colab.research.google.com/github/marcusvpimentel/Mestrado/blob/main/SelecaoCaracteristicas.ipynb\" target=\"_parent\"><img src=\"https://colab.research.google.com/assets/colab-badge.svg\" alt=\"Open In Colab\"/></a>"
      ]
    },
    {
      "cell_type": "code",
      "execution_count": 1,
      "metadata": {
        "colab": {
          "base_uri": "https://localhost:8080/"
        },
        "id": "DBry6JxRC-tj",
        "outputId": "76d89bdf-23ee-41d2-f842-c0a683369fe0"
      },
      "outputs": [
        {
          "output_type": "execute_result",
          "data": {
            "text/plain": [
              "(581012, 54)"
            ]
          },
          "metadata": {},
          "execution_count": 1
        }
      ],
      "source": [
        "from sklearn.datasets import fetch_covtype\n",
        "\n",
        "\n",
        "fetch = fetch_covtype()\n",
        "X = fetch.data  # Features\n",
        "y = fetch.target  # Target labels\n",
        "X.shape"
      ]
    },
    {
      "cell_type": "code",
      "execution_count": 2,
      "metadata": {
        "colab": {
          "base_uri": "https://localhost:8080/"
        },
        "id": "uLnuwJHaD-IR",
        "outputId": "dd80f116-b370-4120-9143-c04f0f270805"
      },
      "outputs": [
        {
          "output_type": "execute_result",
          "data": {
            "text/plain": [
              "({'fit_time': array([37.00169301, 38.99883676, 37.44683647, 37.37829065, 36.48239255]),\n",
              "  'score_time': array([1.0988512 , 0.96704078, 1.01186442, 0.98424935, 0.98684669]),\n",
              "  'test_score': array([0.61260897, 0.77640853, 0.67226037, 0.64150359, 0.52258997])},\n",
              " 0.6450742861267529)"
            ]
          },
          "metadata": {},
          "execution_count": 2
        }
      ],
      "source": [
        "from sklearn.metrics import accuracy_score\n",
        "from sklearn.model_selection import cross_validate\n",
        "from sklearn.ensemble import ExtraTreesClassifier, RandomForestClassifier, GradientBoostingClassifier\n",
        "import numpy as np\n",
        "\n",
        "#processando com RandomForestClassifier sem seleção\n",
        "model = RandomForestClassifier(n_estimators=100, max_depth=5, random_state=123)\n",
        "model.fit(X, y)\n",
        "\n",
        "ypred = model.predict(X)\n",
        "\n",
        "scores = cross_validate(model, X, y)\n",
        "scores, np.mean(scores['test_score'])"
      ]
    },
    {
      "cell_type": "markdown",
      "metadata": {
        "id": "53bqOQd9sCLX"
      },
      "source": [
        "### SelectKBest\n",
        "### 0.6702441004852571 k=5 score_func=f_classif"
      ]
    },
    {
      "cell_type": "code",
      "execution_count": 3,
      "metadata": {
        "colab": {
          "base_uri": "https://localhost:8080/"
        },
        "id": "fwIWyHq9EJWe",
        "outputId": "eff2dbea-36ee-4e59-f33a-8e8b13a05e71"
      },
      "outputs": [
        {
          "output_type": "execute_result",
          "data": {
            "text/plain": [
              "(581012, 20)"
            ]
          },
          "metadata": {},
          "execution_count": 3
        }
      ],
      "source": [
        "from sklearn.feature_selection import SelectKBest, chi2\n",
        "\n",
        "X_new = SelectKBest(k=20).fit_transform(X, y)\n",
        "X_new.shape"
      ]
    },
    {
      "cell_type": "code",
      "execution_count": 4,
      "metadata": {
        "colab": {
          "base_uri": "https://localhost:8080/"
        },
        "id": "4x9E1rkgE8qk",
        "outputId": "4f2066a0-93d9-4400-ab50-2f08b858ec55"
      },
      "outputs": [
        {
          "output_type": "execute_result",
          "data": {
            "text/plain": [
              "({'fit_time': array([27.27910209, 27.57232046, 28.58781457, 27.43750358, 27.40733314]),\n",
              "  'score_time': array([0.86513782, 0.88116312, 0.85807252, 0.84785652, 0.85830903]),\n",
              "  'test_score': array([0.62765161, 0.75728682, 0.69349925, 0.64050533, 0.52543846])},\n",
              " 0.6488762931129813)"
            ]
          },
          "metadata": {},
          "execution_count": 4
        }
      ],
      "source": [
        "#processando com RandomForestClassifier COM seleção SelectKBest\n",
        "model.fit(X_new, y)\n",
        "\n",
        "ypred = model.predict(X_new)\n",
        "\n",
        "scores = cross_validate(model, X_new, y)\n",
        "scores, np.mean(scores['test_score'])"
      ]
    },
    {
      "cell_type": "code",
      "execution_count": 5,
      "metadata": {
        "colab": {
          "base_uri": "https://localhost:8080/"
        },
        "id": "iubGL2YVIFNj",
        "outputId": "7cefb5ac-c5a0-41c1-8e09-3220d054f668"
      },
      "outputs": [
        {
          "output_type": "execute_result",
          "data": {
            "text/plain": [
              "({'fit_time': array([3.4724834 , 3.65292788, 4.32114816, 3.3196516 , 3.53978968]),\n",
              "  'score_time': array([0.02087522, 0.02334428, 0.02449536, 0.02440596, 0.02351713]),\n",
              "  'test_score': array([0.50674251, 0.5298142 , 0.51754703, 0.5386224 , 0.57034302])},\n",
              " 0.5326138335713406)"
            ]
          },
          "metadata": {},
          "execution_count": 5
        }
      ],
      "source": [
        "from sklearn.tree import DecisionTreeClassifier\n",
        "\n",
        "model = DecisionTreeClassifier( min_samples_leaf=1, min_samples_split=5, splitter='best')\n",
        "model.fit(X_new, y)\n",
        "\n",
        "ypred = model.predict(X_new)\n",
        "#processando com DecisionTreeClassifier SelectKBest\n",
        "scores = cross_validate(model, X_new, y)\n",
        "scores, np.mean(scores['test_score'])"
      ]
    },
    {
      "cell_type": "code",
      "execution_count": 6,
      "metadata": {
        "colab": {
          "base_uri": "https://localhost:8080/"
        },
        "id": "Zjx_bNWxIuPY",
        "outputId": "97b2e0d3-903c-425b-bfb9-3b5022273205"
      },
      "outputs": [
        {
          "output_type": "execute_result",
          "data": {
            "text/plain": [
              "(581012, 10)"
            ]
          },
          "metadata": {},
          "execution_count": 6
        }
      ],
      "source": [
        "from sklearn.feature_selection import SelectKBest, chi2\n",
        "#reduzindo as caracteristicas\n",
        "X_new = SelectKBest(k=10).fit_transform(X, y)\n",
        "X_new.shape"
      ]
    },
    {
      "cell_type": "code",
      "execution_count": 7,
      "metadata": {
        "colab": {
          "base_uri": "https://localhost:8080/"
        },
        "id": "bxhndTMPKQlH",
        "outputId": "055fb768-83f9-445d-efd7-03a7ccf266ab"
      },
      "outputs": [
        {
          "output_type": "execute_result",
          "data": {
            "text/plain": [
              "({'fit_time': array([23.47067976, 23.76183343, 23.09906769, 22.93604469, 23.0864017 ]),\n",
              "  'score_time': array([0.82331467, 0.82896304, 1.06071949, 1.17049193, 1.16048861]),\n",
              "  'test_score': array([0.67719422, 0.73733036, 0.69744927, 0.65650333, 0.55314883])},\n",
              " 0.6643252017614466)"
            ]
          },
          "metadata": {},
          "execution_count": 7
        }
      ],
      "source": [
        "model = RandomForestClassifier(n_estimators=100, max_depth=5, random_state=123)\n",
        "model.fit(X_new, y)\n",
        "\n",
        "ypred = model.predict(X_new)\n",
        "#processando com RandomForestClassifier COM menos caracteristicas SelectKBest\n",
        "scores = cross_validate(model, X_new, y)\n",
        "scores, np.mean(scores['test_score'])"
      ]
    },
    {
      "cell_type": "code",
      "execution_count": 8,
      "metadata": {
        "colab": {
          "base_uri": "https://localhost:8080/"
        },
        "id": "CINtFzvQcav1",
        "outputId": "acb13e75-2f0c-4c0c-8be0-56b4e514102f"
      },
      "outputs": [
        {
          "output_type": "execute_result",
          "data": {
            "text/plain": [
              "(581012, 30)"
            ]
          },
          "metadata": {},
          "execution_count": 8
        }
      ],
      "source": [
        "from sklearn.feature_selection import SelectKBest, chi2\n",
        "#reduzindo as caracteristicas\n",
        "X_new = SelectKBest(k=30).fit_transform(X, y)\n",
        "X_new.shape"
      ]
    },
    {
      "cell_type": "code",
      "execution_count": 9,
      "metadata": {
        "colab": {
          "base_uri": "https://localhost:8080/"
        },
        "id": "sLLUcyAdMIjp",
        "outputId": "7942456b-ec56-4734-a563-2231774117c0"
      },
      "outputs": [
        {
          "output_type": "execute_result",
          "data": {
            "text/plain": [
              "({'fit_time': array([31.42791271, 32.52164626, 32.83904481, 32.24212623, 33.26569939]),\n",
              "  'score_time': array([0.90705872, 0.9132874 , 0.9035697 , 0.9379847 , 0.90722275]),\n",
              "  'test_score': array([0.62889943, 0.76683907, 0.68277654, 0.64843979, 0.52734893])},\n",
              " 0.650860749834784)"
            ]
          },
          "metadata": {},
          "execution_count": 9
        }
      ],
      "source": [
        "model = RandomForestClassifier(n_estimators=100, max_depth=5, random_state=123)\n",
        "model.fit(X_new, y)\n",
        "\n",
        "ypred = model.predict(X_new)\n",
        "#processando com RandomForestClassifier COM mais caracteristicas SelectKBest\n",
        "scores = cross_validate(model, X_new, y)\n",
        "scores, np.mean(scores['test_score'])"
      ]
    },
    {
      "cell_type": "code",
      "execution_count": 10,
      "metadata": {
        "colab": {
          "base_uri": "https://localhost:8080/"
        },
        "id": "CyZT3dzFrQ6c",
        "outputId": "f9b48495-6e06-444f-a2b9-954e71763d7c"
      },
      "outputs": [
        {
          "output_type": "execute_result",
          "data": {
            "text/plain": [
              "(581012, 5)"
            ]
          },
          "metadata": {},
          "execution_count": 10
        }
      ],
      "source": [
        "from sklearn.feature_selection import SelectKBest, chi2\n",
        "#reduzindo as caracteristicas\n",
        "X_new = SelectKBest(k=5).fit_transform(X, y)\n",
        "X_new.shape"
      ]
    },
    {
      "cell_type": "code",
      "execution_count": 11,
      "metadata": {
        "colab": {
          "base_uri": "https://localhost:8080/"
        },
        "id": "dBSvfGLbrT88",
        "outputId": "4aba7c6a-e115-4e9c-e8d3-728f22749e6b"
      },
      "outputs": [
        {
          "output_type": "execute_result",
          "data": {
            "text/plain": [
              "({'fit_time': array([19.04066324, 18.49436235, 18.33590722, 19.4153192 , 17.85677505]),\n",
              "  'score_time': array([0.82129788, 1.20245981, 0.83410144, 0.83277273, 0.83747745]),\n",
              "  'test_score': array([0.69828662, 0.77689044, 0.66834478, 0.65506618, 0.55263248])},\n",
              " 0.6702441004852571)"
            ]
          },
          "metadata": {},
          "execution_count": 11
        }
      ],
      "source": [
        "model = RandomForestClassifier(n_estimators=100, max_depth=5, random_state=123)\n",
        "model.fit(X_new, y)\n",
        "\n",
        "ypred = model.predict(X_new)\n",
        "#processando com RandomForestClassifier COM 5 caracteristicas SelectKBest\n",
        "scores = cross_validate(model, X_new, y)\n",
        "scores, np.mean(scores['test_score'])"
      ]
    },
    {
      "cell_type": "code",
      "execution_count": 12,
      "metadata": {
        "colab": {
          "base_uri": "https://localhost:8080/"
        },
        "id": "eJ9eR99OLh5s",
        "outputId": "0bbdf0b0-f94b-4332-8144-7d465e7a2f4c"
      },
      "outputs": [
        {
          "output_type": "execute_result",
          "data": {
            "text/plain": [
              "(581012, 5)"
            ]
          },
          "metadata": {},
          "execution_count": 12
        }
      ],
      "source": [
        "from sklearn.feature_selection import SelectKBest, f_classif\n",
        "#reduzindo as caracteristicas\n",
        "X_new = SelectKBest(score_func=f_classif, k=5).fit_transform(X, y)\n",
        "X_new.shape"
      ]
    },
    {
      "cell_type": "code",
      "execution_count": 13,
      "metadata": {
        "colab": {
          "base_uri": "https://localhost:8080/"
        },
        "id": "3UcuUnWwLr2k",
        "outputId": "6ed5af72-908e-45fc-c31a-0800289d75bc"
      },
      "outputs": [
        {
          "output_type": "execute_result",
          "data": {
            "text/plain": [
              "({'fit_time': array([18.37517428, 19.21375489, 18.65187621, 19.64806318, 17.90635729]),\n",
              "  'score_time': array([0.85865188, 0.90133882, 0.84955955, 0.8554275 , 0.83277464]),\n",
              "  'test_score': array([0.69828662, 0.77689044, 0.66834478, 0.65506618, 0.55263248])},\n",
              " 0.6702441004852571)"
            ]
          },
          "metadata": {},
          "execution_count": 13
        }
      ],
      "source": [
        "model = RandomForestClassifier(n_estimators=100, max_depth=5, random_state=123)\n",
        "model.fit(X_new, y)\n",
        "\n",
        "ypred = model.predict(X_new)\n",
        "#processando com RandomForestClassifier COM 5 caracteristicas SelectKBest\n",
        "scores = cross_validate(model, X_new, y)\n",
        "scores, np.mean(scores['test_score'])"
      ]
    },
    {
      "cell_type": "code",
      "source": [
        "from sklearn.feature_selection import SelectKBest, f_classif\n",
        "#reduzindo as caracteristicas\n",
        "X_new = SelectKBest(score_func=f_classif, k=2).fit_transform(X, y)\n",
        "X_new.shape"
      ],
      "metadata": {
        "colab": {
          "base_uri": "https://localhost:8080/"
        },
        "id": "aAhlqwsLIkjq",
        "outputId": "9f38c71d-8267-4472-d717-87f5ccd3f823"
      },
      "execution_count": 14,
      "outputs": [
        {
          "output_type": "execute_result",
          "data": {
            "text/plain": [
              "(581012, 2)"
            ]
          },
          "metadata": {},
          "execution_count": 14
        }
      ]
    },
    {
      "cell_type": "code",
      "source": [
        "import sklearn.linear_model\n",
        "from sklearn.model_selection import cross_validate\n",
        "import numpy as np\n",
        "\n",
        "model = sklearn.linear_model.LogisticRegression(solver='liblinear')\n",
        "\n",
        "model.fit(X_new, y)\n",
        "ypred = model.predict(X_new)\n",
        "scores = cross_validate(model, X_new, y)\n",
        "scores, np.mean(scores['test_score'])"
      ],
      "metadata": {
        "colab": {
          "base_uri": "https://localhost:8080/"
        },
        "id": "nSHU2mlHzIF9",
        "outputId": "a95ba428-9bd0-453a-d63f-194402cea3a2"
      },
      "execution_count": 15,
      "outputs": [
        {
          "output_type": "execute_result",
          "data": {
            "text/plain": [
              "({'fit_time': array([5.47373462, 5.52198434, 4.98730993, 5.82391644, 5.04515672]),\n",
              "  'score_time': array([0.03729773, 0.01660943, 0.01665425, 0.01716495, 0.01671672]),\n",
              "  'test_score': array([0.66055093, 0.75535916, 0.69076264, 0.64425741, 0.53855355])},\n",
              " 0.6578967385929874)"
            ]
          },
          "metadata": {},
          "execution_count": 15
        }
      ]
    },
    {
      "cell_type": "markdown",
      "metadata": {
        "id": "QVmtfHY5r9xN"
      },
      "source": [
        "### SelectFromModel - 0.6555852274588396"
      ]
    },
    {
      "cell_type": "code",
      "execution_count": 16,
      "metadata": {
        "colab": {
          "base_uri": "https://localhost:8080/"
        },
        "id": "wOR37huwrrBT",
        "outputId": "f43b67aa-cd1b-46bd-95c8-c5e897babc7d"
      },
      "outputs": [
        {
          "output_type": "execute_result",
          "data": {
            "text/plain": [
              "({'fit_time': array([24.92389441, 25.43426061, 25.47300029, 25.68013811, 25.21019006]),\n",
              "  'score_time': array([0.83880758, 0.83708882, 0.89148307, 1.14407492, 0.82021332]),\n",
              "  'test_score': array([0.67811502, 0.74887912, 0.69494501, 0.64105609, 0.5149309 ])},\n",
              " 0.6555852274588396)"
            ]
          },
          "metadata": {},
          "execution_count": 16
        }
      ],
      "source": [
        "from sklearn.feature_selection import SelectFromModel\n",
        "\n",
        "# estimator = RandomForestClassifier(n_estimators=100, random_state=42)\n",
        "model = RandomForestClassifier(n_estimators=100, max_depth=5, random_state=123)\n",
        "\n",
        "# Initialize SelectFromModel with the estimator and the threshold for feature selection\n",
        "selector = SelectFromModel(model, threshold=\"mean\")\n",
        "\n",
        "# Fit the selector on the data\n",
        "model.fit(X, y)\n",
        "\n",
        "# Transform the features to select the most important ones\n",
        "X_new = selector.transform(X)\n",
        "\n",
        "#ypred = model.predict(X_new)\n",
        "\n",
        "scores = cross_validate(model, X_new, y)\n",
        "scores, np.mean(scores['test_score'])\n"
      ]
    },
    {
      "cell_type": "markdown",
      "metadata": {
        "id": "e0jHHVu-Cgr5"
      },
      "source": [
        "### SelectFwe, chi2 0.6450742861267529\n"
      ]
    },
    {
      "cell_type": "code",
      "execution_count": 17,
      "metadata": {
        "colab": {
          "base_uri": "https://localhost:8080/"
        },
        "id": "hlk3fc0nCjy6",
        "outputId": "2a5bbdab-26ae-4677-ba70-abe328b2b51d"
      },
      "outputs": [
        {
          "output_type": "execute_result",
          "data": {
            "text/plain": [
              "(581012, 54)"
            ]
          },
          "metadata": {},
          "execution_count": 17
        }
      ],
      "source": [
        "from sklearn.feature_selection import SelectFwe, f_classif\n",
        "\n",
        "X_new = SelectFwe(score_func=f_classif, alpha=0.01).fit_transform(X, y)\n",
        "X_new.shape"
      ]
    },
    {
      "cell_type": "code",
      "execution_count": 18,
      "metadata": {
        "colab": {
          "base_uri": "https://localhost:8080/"
        },
        "id": "ABnQwikjC1v6",
        "outputId": "00a08144-1e85-41c3-ec02-21ac5aa69969"
      },
      "outputs": [
        {
          "output_type": "execute_result",
          "data": {
            "text/plain": [
              "({'fit_time': array([36.85583353, 38.24225712, 36.48323798, 36.38251543, 36.15211344]),\n",
              "  'score_time': array([1.00601768, 1.00222802, 0.98890066, 0.96146917, 0.99122262]),\n",
              "  'test_score': array([0.61260897, 0.77640853, 0.67226037, 0.64150359, 0.52258997])},\n",
              " 0.6450742861267529)"
            ]
          },
          "metadata": {},
          "execution_count": 18
        }
      ],
      "source": [
        "model = RandomForestClassifier(n_estimators=100, max_depth=5, random_state=123)\n",
        "model.fit(X_new, y)\n",
        "\n",
        "ypred = model.predict(X_new)\n",
        "#processando com RandomForestClassifier COM 5 caracteristicas SelectKBest\n",
        "scores = cross_validate(model, X_new, y)\n",
        "scores, np.mean(scores['test_score'])"
      ]
    },
    {
      "cell_type": "code",
      "execution_count": 19,
      "metadata": {
        "colab": {
          "base_uri": "https://localhost:8080/"
        },
        "id": "NzEoOiU4LC_W",
        "outputId": "5e58fff5-5ee3-46c6-fa6d-5913c0ceb54d"
      },
      "outputs": [
        {
          "output_type": "execute_result",
          "data": {
            "text/plain": [
              "(581012, 54)"
            ]
          },
          "metadata": {},
          "execution_count": 19
        }
      ],
      "source": [
        "X_new = SelectFwe(score_func=f_classif, alpha=0.05).fit_transform(X, y)\n",
        "\n",
        "X_new.shape"
      ]
    },
    {
      "cell_type": "code",
      "execution_count": 20,
      "metadata": {
        "colab": {
          "base_uri": "https://localhost:8080/"
        },
        "id": "g2Poy4tdMUwU",
        "outputId": "24ede2f5-b62a-4891-b71f-b6bc957a8836"
      },
      "outputs": [
        {
          "output_type": "execute_result",
          "data": {
            "text/plain": [
              "({'fit_time': array([36.65431118, 37.35966635, 36.36693192, 36.18395472, 35.98037362]),\n",
              "  'score_time': array([0.99284005, 0.98793054, 0.99778461, 0.99888778, 1.00597191]),\n",
              "  'test_score': array([0.61260897, 0.77640853, 0.67226037, 0.64150359, 0.52258997])},\n",
              " 0.6450742861267529)"
            ]
          },
          "metadata": {},
          "execution_count": 20
        }
      ],
      "source": [
        "model = RandomForestClassifier(n_estimators=100, max_depth=5, random_state=123)\n",
        "model.fit(X_new, y)\n",
        "\n",
        "ypred = model.predict(X_new)\n",
        "#processando com RandomForestClassifier COM 5 caracteristicas SelectKBest\n",
        "scores = cross_validate(model, X_new, y)\n",
        "scores, np.mean(scores['test_score'])"
      ]
    },
    {
      "cell_type": "markdown",
      "source": [
        "### SelectPercentile Best 0.6761837494248804\n",
        "percentile=15"
      ],
      "metadata": {
        "id": "TTHVTFfAJEPy"
      }
    },
    {
      "cell_type": "code",
      "source": [
        "from sklearn.feature_selection import SelectPercentile, chi2\n",
        "X_new = SelectPercentile(score_func=f_classif, percentile=10).fit_transform(X, y)\n",
        "X_new.shape\n"
      ],
      "metadata": {
        "colab": {
          "base_uri": "https://localhost:8080/"
        },
        "id": "0gqjKnHNJIoo",
        "outputId": "64fa11d0-0cdd-4fc2-c872-8718b034b3ed"
      },
      "execution_count": 21,
      "outputs": [
        {
          "output_type": "execute_result",
          "data": {
            "text/plain": [
              "(581012, 6)"
            ]
          },
          "metadata": {},
          "execution_count": 21
        }
      ]
    },
    {
      "cell_type": "code",
      "source": [
        "model = RandomForestClassifier(n_estimators=100, max_depth=5, random_state=123)\n",
        "model.fit(X_new, y)\n",
        "\n",
        "ypred = model.predict(X_new)\n",
        "#processando com RandomForestClassifier SelectPercentile 10\n",
        "scores = cross_validate(model, X_new, y)\n",
        "scores, np.mean(scores['test_score'])"
      ],
      "metadata": {
        "colab": {
          "base_uri": "https://localhost:8080/"
        },
        "id": "KpHUscAeJjX_",
        "outputId": "86caa5f2-3e2b-4511-ba37-c9badc5695e1"
      },
      "execution_count": 22,
      "outputs": [
        {
          "output_type": "execute_result",
          "data": {
            "text/plain": [
              "({'fit_time': array([15.70882607, 16.51426125, 15.90874815, 15.95904374, 16.53979015]),\n",
              "  'score_time': array([0.81654096, 0.80821681, 0.79913473, 1.0088079 , 0.78892231]),\n",
              "  'test_score': array([0.69792518, 0.77780264, 0.67013477, 0.65744996, 0.554913  ])},\n",
              " 0.6716451081258135)"
            ]
          },
          "metadata": {},
          "execution_count": 22
        }
      ]
    },
    {
      "cell_type": "code",
      "source": [
        "from sklearn.feature_selection import SelectPercentile, chi2\n",
        "X_new = SelectPercentile(score_func=f_classif, percentile=8).fit_transform(X, y)\n",
        "X_new.shape"
      ],
      "metadata": {
        "colab": {
          "base_uri": "https://localhost:8080/"
        },
        "id": "71LcXp81Kwfu",
        "outputId": "4c129cb9-2201-401f-983f-54a5f51b700d"
      },
      "execution_count": 23,
      "outputs": [
        {
          "output_type": "execute_result",
          "data": {
            "text/plain": [
              "(581012, 5)"
            ]
          },
          "metadata": {},
          "execution_count": 23
        }
      ]
    },
    {
      "cell_type": "code",
      "source": [
        "model = RandomForestClassifier(n_estimators=100, max_depth=5, random_state=123)\n",
        "model.fit(X_new, y)\n",
        "\n",
        "ypred = model.predict(X_new)\n",
        "#processando com RandomForestClassifier COM SelectPercentile 8\n",
        "scores = cross_validate(model, X_new, y)\n",
        "scores, np.mean(scores['test_score'])"
      ],
      "metadata": {
        "colab": {
          "base_uri": "https://localhost:8080/"
        },
        "id": "6RbgF4yDLygI",
        "outputId": "ca03ea3b-1eaf-4345-e1b7-7834a7d4a8e9"
      },
      "execution_count": 24,
      "outputs": [
        {
          "output_type": "execute_result",
          "data": {
            "text/plain": [
              "({'fit_time': array([18.03860736, 17.92470717, 18.45402789, 17.53635907, 17.48443937]),\n",
              "  'score_time': array([1.16270447, 0.8290801 , 0.92594266, 0.79079008, 1.09264922]),\n",
              "  'test_score': array([0.69828662, 0.77689044, 0.66834478, 0.65506618, 0.55263248])},\n",
              " 0.6702441004852571)"
            ]
          },
          "metadata": {},
          "execution_count": 24
        }
      ]
    },
    {
      "cell_type": "code",
      "source": [
        "from sklearn.feature_selection import SelectPercentile, chi2\n",
        "X_new = SelectPercentile(score_func=f_classif, percentile=15).fit_transform(X, y)\n",
        "X_new.shape"
      ],
      "metadata": {
        "colab": {
          "base_uri": "https://localhost:8080/"
        },
        "id": "sX_TnmwINBWi",
        "outputId": "50ee95a6-744e-4b8f-ca6a-83ace72d9220"
      },
      "execution_count": 25,
      "outputs": [
        {
          "output_type": "execute_result",
          "data": {
            "text/plain": [
              "(581012, 8)"
            ]
          },
          "metadata": {},
          "execution_count": 25
        }
      ]
    },
    {
      "cell_type": "code",
      "source": [
        "model = RandomForestClassifier(n_estimators=100, max_depth=5, random_state=123)\n",
        "model.fit(X_new, y)\n",
        "\n",
        "ypred = model.predict(X_new)\n",
        "#processando com RandomForestClassifier COM SelectPercentile 15\n",
        "scores = cross_validate(model, X_new, y)\n",
        "scores, np.mean(scores['test_score'])"
      ],
      "metadata": {
        "colab": {
          "base_uri": "https://localhost:8080/"
        },
        "id": "CldgX3-sNDyP",
        "outputId": "a50f0bfb-56d5-46d4-a4a4-439b08e950b4"
      },
      "execution_count": 26,
      "outputs": [
        {
          "output_type": "execute_result",
          "data": {
            "text/plain": [
              "({'fit_time': array([15.63564062, 15.08983302, 14.99344587, 16.36825538, 15.52027941]),\n",
              "  'score_time': array([0.82863617, 0.79039884, 0.80261803, 0.79119778, 0.81172252]),\n",
              "  'test_score': array([0.69707323, 0.78267342, 0.69514294, 0.6584224 , 0.54760675])},\n",
              " 0.6761837494248804)"
            ]
          },
          "metadata": {},
          "execution_count": 26
        }
      ]
    },
    {
      "cell_type": "code",
      "source": [
        "from sklearn.feature_selection import SelectPercentile, chi2\n",
        "X_new = SelectPercentile(score_func=f_classif, percentile=20).fit_transform(X, y)\n",
        "X_new.shape"
      ],
      "metadata": {
        "colab": {
          "base_uri": "https://localhost:8080/"
        },
        "id": "9aZf7jaoOKil",
        "outputId": "ee2f6ee3-496f-49a5-8b69-dbc177e96e7a"
      },
      "execution_count": 27,
      "outputs": [
        {
          "output_type": "execute_result",
          "data": {
            "text/plain": [
              "(581012, 11)"
            ]
          },
          "metadata": {},
          "execution_count": 27
        }
      ]
    },
    {
      "cell_type": "code",
      "source": [
        "model = RandomForestClassifier(n_estimators=100, max_depth=5, random_state=123)\n",
        "model.fit(X_new, y)\n",
        "\n",
        "ypred = model.predict(X_new)\n",
        "#processando com RandomForestClassifier COM SelectPercentile 20\n",
        "scores = cross_validate(model, X_new, y)\n",
        "scores, np.mean(scores['test_score'])"
      ],
      "metadata": {
        "colab": {
          "base_uri": "https://localhost:8080/"
        },
        "id": "u0oebR5iOM6V",
        "outputId": "f3d3e12e-6bc6-47fe-8764-a340ac577596"
      },
      "execution_count": 28,
      "outputs": [
        {
          "output_type": "execute_result",
          "data": {
            "text/plain": [
              "({'fit_time': array([22.13574338, 21.54731917, 22.23543692, 22.17266107, 23.1314826 ]),\n",
              "  'score_time': array([0.82178855, 0.80488586, 0.81375647, 0.82456326, 0.822891  ]),\n",
              "  'test_score': array([0.69663434, 0.74039397, 0.69442006, 0.6504191 , 0.5390785 ])},\n",
              " 0.664189192908377)"
            ]
          },
          "metadata": {},
          "execution_count": 28
        }
      ]
    },
    {
      "cell_type": "code",
      "source": [
        "from sklearn.feature_selection import SelectPercentile, chi2\n",
        "X_new = SelectPercentile(score_func=f_classif, percentile=25).fit_transform(X, y)\n",
        "X_new.shape"
      ],
      "metadata": {
        "colab": {
          "base_uri": "https://localhost:8080/"
        },
        "id": "QTdKpY3gPIs_",
        "outputId": "a06a1c37-2f13-4651-dfed-22a71c49dad4"
      },
      "execution_count": 29,
      "outputs": [
        {
          "output_type": "execute_result",
          "data": {
            "text/plain": [
              "(581012, 14)"
            ]
          },
          "metadata": {},
          "execution_count": 29
        }
      ]
    },
    {
      "cell_type": "code",
      "source": [
        "model = RandomForestClassifier(n_estimators=100, max_depth=5, random_state=123)\n",
        "model.fit(X_new, y)\n",
        "\n",
        "ypred = model.predict(X_new)\n",
        "#processando com RandomForestClassifier COM SelectPercentile 25\n",
        "scores = cross_validate(model, X_new, y)\n",
        "scores, np.mean(scores['test_score'])"
      ],
      "metadata": {
        "colab": {
          "base_uri": "https://localhost:8080/"
        },
        "id": "wSViQJF_Pc19",
        "outputId": "977f9680-a60f-4442-87b0-7306a9978c3b"
      },
      "execution_count": 30,
      "outputs": [
        {
          "output_type": "execute_result",
          "data": {
            "text/plain": [
              "({'fit_time': array([25.78211498, 25.98567033, 26.93451476, 25.61592031, 25.34833002]),\n",
              "  'score_time': array([0.85910749, 0.81591392, 0.80985785, 0.79830956, 0.80313873]),\n",
              "  'test_score': array([0.70116951, 0.74328546, 0.69908435, 0.63776011, 0.53178947])},\n",
              " 0.6626177786011215)"
            ]
          },
          "metadata": {},
          "execution_count": 30
        }
      ]
    },
    {
      "cell_type": "code",
      "source": [
        "from sklearn.feature_selection import SelectPercentile, chi2\n",
        "X_new = SelectPercentile(score_func=f_classif, percentile=15).fit_transform(X, y)\n",
        "X_new.shape"
      ],
      "metadata": {
        "colab": {
          "base_uri": "https://localhost:8080/"
        },
        "id": "uW-ofgkb6BrP",
        "outputId": "7d2e7d70-6e80-4a2c-aef3-f1bb1e9a80c5"
      },
      "execution_count": 33,
      "outputs": [
        {
          "output_type": "execute_result",
          "data": {
            "text/plain": [
              "(581012, 8)"
            ]
          },
          "metadata": {},
          "execution_count": 33
        }
      ]
    },
    {
      "cell_type": "code",
      "source": [
        "from sklearn.model_selection import cross_validate\n",
        "from sklearn.linear_model import RidgeClassifier\n",
        "import numpy as np\n",
        "\n",
        "modelo = RidgeClassifier()\n",
        "scores = cross_validate(modelo, X, y)\n",
        "scores, np.mean(scores['test_score'])\n",
        ""
      ],
      "metadata": {
        "colab": {
          "base_uri": "https://localhost:8080/"
        },
        "id": "eOJRQea75rXN",
        "outputId": "7fd80584-e429-4dbf-de3d-9c85024ae864"
      },
      "execution_count": 34,
      "outputs": [
        {
          "output_type": "execute_result",
          "data": {
            "text/plain": [
              "({'fit_time': array([1.43393016, 1.01768827, 0.92853522, 0.9139204 , 0.92384148]),\n",
              "  'score_time': array([0.04769397, 0.03943014, 0.03822422, 0.04430032, 0.04069042]),\n",
              "  'test_score': array([0.58947704, 0.76359474, 0.62652106, 0.67569405, 0.54031772])},\n",
              " 0.639120922063683)"
            ]
          },
          "metadata": {},
          "execution_count": 34
        }
      ]
    },
    {
      "cell_type": "markdown",
      "source": [
        "### RFE"
      ],
      "metadata": {
        "id": "FNpx8upNbqlj"
      }
    },
    {
      "cell_type": "code",
      "source": [
        "from sklearn.feature_selection import SelectFpr, f_classif\n",
        "X_new = SelectFpr(score_func=f_classif, alpha=0.5).fit_transform(X, y)\n",
        "X_new.shape"
      ],
      "metadata": {
        "colab": {
          "base_uri": "https://localhost:8080/"
        },
        "id": "gIkvd9QEbxbc",
        "outputId": "9687f6dd-fcaf-4249-cc18-1c2f3cd4e514"
      },
      "execution_count": 31,
      "outputs": [
        {
          "output_type": "execute_result",
          "data": {
            "text/plain": [
              "(581012, 54)"
            ]
          },
          "metadata": {},
          "execution_count": 31
        }
      ]
    },
    {
      "cell_type": "code",
      "source": [
        "model = RandomForestClassifier(n_estimators=100, max_depth=5, random_state=123)\n",
        "\n",
        "model.fit(X_new, y)\n",
        "\n",
        "ypred = model.predict(X_new)\n",
        "#processando com RandomForestClassifier COM SelectPercentile 25\n",
        "scores = cross_validate(model, X_new, y)\n",
        "scores, np.mean(scores['test_score'])"
      ],
      "metadata": {
        "colab": {
          "base_uri": "https://localhost:8080/"
        },
        "id": "bgdoJ2Askel8",
        "outputId": "5495ef29-6b7c-4063-babd-dc5108a0988b"
      },
      "execution_count": 32,
      "outputs": [
        {
          "output_type": "execute_result",
          "data": {
            "text/plain": [
              "({'fit_time': array([36.450032  , 36.58099508, 36.7513597 , 36.4571569 , 36.77531338]),\n",
              "  'score_time': array([0.99254203, 0.97440219, 0.97947669, 1.01066661, 0.99285769]),\n",
              "  'test_score': array([0.61260897, 0.77640853, 0.67226037, 0.64150359, 0.52258997])},\n",
              " 0.6450742861267529)"
            ]
          },
          "metadata": {},
          "execution_count": 32
        }
      ]
    }
  ],
  "metadata": {
    "colab": {
      "provenance": [],
      "collapsed_sections": [
        "53bqOQd9sCLX",
        "QVmtfHY5r9xN",
        "e0jHHVu-Cgr5"
      ],
      "authorship_tag": "ABX9TyOk4jWGCBWY4L8ohMpu4RH8",
      "include_colab_link": true
    },
    "kernelspec": {
      "display_name": "Python 3",
      "name": "python3"
    },
    "language_info": {
      "name": "python"
    }
  },
  "nbformat": 4,
  "nbformat_minor": 0
}